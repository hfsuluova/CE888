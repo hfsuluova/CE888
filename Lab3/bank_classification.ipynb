{
  "nbformat": 4,
  "nbformat_minor": 0,
  "metadata": {
    "accelerator": "GPU",
    "colab": {
      "name": "bank_classification.ipynb",
      "provenance": [],
      "authorship_tag": "ABX9TyObrWNni3eD96ns4RutEAoz",
      "include_colab_link": true
    },
    "kernelspec": {
      "display_name": "Python 3",
      "name": "python3"
    },
    "language_info": {
      "name": "python"
    }
  },
  "cells": [
    {
      "cell_type": "markdown",
      "metadata": {
        "id": "view-in-github",
        "colab_type": "text"
      },
      "source": [
        "<a href=\"https://colab.research.google.com/github/hfsuluova/CE888/blob/main/Lab3/bank_classification.ipynb\" target=\"_parent\"><img src=\"https://colab.research.google.com/assets/colab-badge.svg\" alt=\"Open In Colab\"/></a>"
      ]
    },
    {
      "cell_type": "code",
      "metadata": {
        "id": "U-yh_VivSrVU"
      },
      "source": [
        "#Loading the Libraries\n",
        "%matplotlib inline\n",
        "import matplotlib\n",
        "import numpy as np\n",
        "import matplotlib.pyplot as plt\n",
        "import pandas as pd\n",
        "import seaborn as sns\n",
        "import itertools\n",
        "\n",
        "from sklearn.tree import DecisionTreeRegressor\n",
        "from sklearn.ensemble import RandomForestClassifier, ExtraTreesClassifier\n",
        "from sklearn.model_selection import cross_val_score,cross_val_predict\n",
        "from sklearn.metrics import mean_squared_error as mse\n",
        "from sklearn.metrics import mean_absolute_error as mae\n",
        "from sklearn.metrics import accuracy_score as acc\n",
        "from sklearn.metrics import make_scorer, confusion_matrix\n",
        "from sklearn.dummy import DummyRegressor, DummyClassifier\n",
        "from sklearn.preprocessing import LabelEncoder"
      ],
      "execution_count": null,
      "outputs": []
    },
    {
      "cell_type": "code",
      "metadata": {
        "id": "scQ-UMVVTDb8"
      },
      "source": [
        "#Loading the dataset\n",
        "df = pd.read_csv(\"https://raw.githubusercontent.com/albanda/CE888/master/lab3/bank-additional-full.csv\", delimiter = \";\")"
      ],
      "execution_count": null,
      "outputs": []
    },
    {
      "cell_type": "code",
      "metadata": {
        "colab": {
          "base_uri": "https://localhost:8080/",
          "height": 206
        },
        "id": "0GNEPm4FTFIO",
        "outputId": "76837e81-63f5-4d66-aca6-c99059ada27e"
      },
      "source": [
        "df.head()"
      ],
      "execution_count": null,
      "outputs": [
        {
          "output_type": "execute_result",
          "data": {
            "text/html": [
              "<div>\n",
              "<style scoped>\n",
              "    .dataframe tbody tr th:only-of-type {\n",
              "        vertical-align: middle;\n",
              "    }\n",
              "\n",
              "    .dataframe tbody tr th {\n",
              "        vertical-align: top;\n",
              "    }\n",
              "\n",
              "    .dataframe thead th {\n",
              "        text-align: right;\n",
              "    }\n",
              "</style>\n",
              "<table border=\"1\" class=\"dataframe\">\n",
              "  <thead>\n",
              "    <tr style=\"text-align: right;\">\n",
              "      <th></th>\n",
              "      <th>age</th>\n",
              "      <th>job</th>\n",
              "      <th>marital</th>\n",
              "      <th>education</th>\n",
              "      <th>default</th>\n",
              "      <th>housing</th>\n",
              "      <th>loan</th>\n",
              "      <th>contact</th>\n",
              "      <th>month</th>\n",
              "      <th>day_of_week</th>\n",
              "      <th>duration</th>\n",
              "      <th>campaign</th>\n",
              "      <th>pdays</th>\n",
              "      <th>previous</th>\n",
              "      <th>poutcome</th>\n",
              "      <th>emp.var.rate</th>\n",
              "      <th>cons.price.idx</th>\n",
              "      <th>cons.conf.idx</th>\n",
              "      <th>euribor3m</th>\n",
              "      <th>nr.employed</th>\n",
              "      <th>y</th>\n",
              "    </tr>\n",
              "  </thead>\n",
              "  <tbody>\n",
              "    <tr>\n",
              "      <th>0</th>\n",
              "      <td>56</td>\n",
              "      <td>housemaid</td>\n",
              "      <td>married</td>\n",
              "      <td>basic.4y</td>\n",
              "      <td>no</td>\n",
              "      <td>no</td>\n",
              "      <td>no</td>\n",
              "      <td>telephone</td>\n",
              "      <td>may</td>\n",
              "      <td>mon</td>\n",
              "      <td>261</td>\n",
              "      <td>1</td>\n",
              "      <td>999</td>\n",
              "      <td>0</td>\n",
              "      <td>nonexistent</td>\n",
              "      <td>1.1</td>\n",
              "      <td>93.994</td>\n",
              "      <td>-36.4</td>\n",
              "      <td>4.857</td>\n",
              "      <td>5191.0</td>\n",
              "      <td>no</td>\n",
              "    </tr>\n",
              "    <tr>\n",
              "      <th>1</th>\n",
              "      <td>57</td>\n",
              "      <td>services</td>\n",
              "      <td>married</td>\n",
              "      <td>high.school</td>\n",
              "      <td>unknown</td>\n",
              "      <td>no</td>\n",
              "      <td>no</td>\n",
              "      <td>telephone</td>\n",
              "      <td>may</td>\n",
              "      <td>mon</td>\n",
              "      <td>149</td>\n",
              "      <td>1</td>\n",
              "      <td>999</td>\n",
              "      <td>0</td>\n",
              "      <td>nonexistent</td>\n",
              "      <td>1.1</td>\n",
              "      <td>93.994</td>\n",
              "      <td>-36.4</td>\n",
              "      <td>4.857</td>\n",
              "      <td>5191.0</td>\n",
              "      <td>no</td>\n",
              "    </tr>\n",
              "    <tr>\n",
              "      <th>2</th>\n",
              "      <td>37</td>\n",
              "      <td>services</td>\n",
              "      <td>married</td>\n",
              "      <td>high.school</td>\n",
              "      <td>no</td>\n",
              "      <td>yes</td>\n",
              "      <td>no</td>\n",
              "      <td>telephone</td>\n",
              "      <td>may</td>\n",
              "      <td>mon</td>\n",
              "      <td>226</td>\n",
              "      <td>1</td>\n",
              "      <td>999</td>\n",
              "      <td>0</td>\n",
              "      <td>nonexistent</td>\n",
              "      <td>1.1</td>\n",
              "      <td>93.994</td>\n",
              "      <td>-36.4</td>\n",
              "      <td>4.857</td>\n",
              "      <td>5191.0</td>\n",
              "      <td>no</td>\n",
              "    </tr>\n",
              "    <tr>\n",
              "      <th>3</th>\n",
              "      <td>40</td>\n",
              "      <td>admin.</td>\n",
              "      <td>married</td>\n",
              "      <td>basic.6y</td>\n",
              "      <td>no</td>\n",
              "      <td>no</td>\n",
              "      <td>no</td>\n",
              "      <td>telephone</td>\n",
              "      <td>may</td>\n",
              "      <td>mon</td>\n",
              "      <td>151</td>\n",
              "      <td>1</td>\n",
              "      <td>999</td>\n",
              "      <td>0</td>\n",
              "      <td>nonexistent</td>\n",
              "      <td>1.1</td>\n",
              "      <td>93.994</td>\n",
              "      <td>-36.4</td>\n",
              "      <td>4.857</td>\n",
              "      <td>5191.0</td>\n",
              "      <td>no</td>\n",
              "    </tr>\n",
              "    <tr>\n",
              "      <th>4</th>\n",
              "      <td>56</td>\n",
              "      <td>services</td>\n",
              "      <td>married</td>\n",
              "      <td>high.school</td>\n",
              "      <td>no</td>\n",
              "      <td>no</td>\n",
              "      <td>yes</td>\n",
              "      <td>telephone</td>\n",
              "      <td>may</td>\n",
              "      <td>mon</td>\n",
              "      <td>307</td>\n",
              "      <td>1</td>\n",
              "      <td>999</td>\n",
              "      <td>0</td>\n",
              "      <td>nonexistent</td>\n",
              "      <td>1.1</td>\n",
              "      <td>93.994</td>\n",
              "      <td>-36.4</td>\n",
              "      <td>4.857</td>\n",
              "      <td>5191.0</td>\n",
              "      <td>no</td>\n",
              "    </tr>\n",
              "  </tbody>\n",
              "</table>\n",
              "</div>"
            ],
            "text/plain": [
              "   age        job  marital  ... euribor3m nr.employed   y\n",
              "0   56  housemaid  married  ...     4.857      5191.0  no\n",
              "1   57   services  married  ...     4.857      5191.0  no\n",
              "2   37   services  married  ...     4.857      5191.0  no\n",
              "3   40     admin.  married  ...     4.857      5191.0  no\n",
              "4   56   services  married  ...     4.857      5191.0  no\n",
              "\n",
              "[5 rows x 21 columns]"
            ]
          },
          "metadata": {
            "tags": []
          },
          "execution_count": 24
        }
      ]
    },
    {
      "cell_type": "code",
      "metadata": {
        "colab": {
          "base_uri": "https://localhost:8080/"
        },
        "id": "tzTyoDYCTHiT",
        "outputId": "ee443b9f-0d16-4e92-a2cc-6aef75211c64"
      },
      "source": [
        "df.dtypes"
      ],
      "execution_count": null,
      "outputs": [
        {
          "output_type": "execute_result",
          "data": {
            "text/plain": [
              "age                 int64\n",
              "job                object\n",
              "marital            object\n",
              "education          object\n",
              "default            object\n",
              "housing            object\n",
              "loan               object\n",
              "contact            object\n",
              "month              object\n",
              "day_of_week        object\n",
              "duration            int64\n",
              "campaign            int64\n",
              "pdays               int64\n",
              "previous            int64\n",
              "poutcome           object\n",
              "emp.var.rate      float64\n",
              "cons.price.idx    float64\n",
              "cons.conf.idx     float64\n",
              "euribor3m         float64\n",
              "nr.employed       float64\n",
              "y                  object\n",
              "dtype: object"
            ]
          },
          "metadata": {
            "tags": []
          },
          "execution_count": 25
        }
      ]
    },
    {
      "cell_type": "code",
      "metadata": {
        "id": "JOLf35c0TKCb"
      },
      "source": [
        "#Convert Labels into numbers\n",
        "df[[\"y\"]] = df[[\"y\"]].apply(LabelEncoder().fit_transform)"
      ],
      "execution_count": null,
      "outputs": []
    },
    {
      "cell_type": "code",
      "metadata": {
        "colab": {
          "base_uri": "https://localhost:8080/"
        },
        "id": "CSrC6jh4TXjj",
        "outputId": "14ad23ae-636e-4bd1-dfff-4aa5a37fdae4"
      },
      "source": [
        "#Creating dummies to convert the categorical columns to numerical columns\n",
        "df_dummies = pd.get_dummies(df)\n",
        "print(df_dummies)"
      ],
      "execution_count": null,
      "outputs": [
        {
          "output_type": "stream",
          "text": [
            "       age  duration  ...  poutcome_nonexistent  poutcome_success\n",
            "0       56       261  ...                     1                 0\n",
            "1       57       149  ...                     1                 0\n",
            "2       37       226  ...                     1                 0\n",
            "3       40       151  ...                     1                 0\n",
            "4       56       307  ...                     1                 0\n",
            "...    ...       ...  ...                   ...               ...\n",
            "41183   73       334  ...                     1                 0\n",
            "41184   46       383  ...                     1                 0\n",
            "41185   56       189  ...                     1                 0\n",
            "41186   44       442  ...                     1                 0\n",
            "41187   74       239  ...                     0                 0\n",
            "\n",
            "[41188 rows x 64 columns]\n"
          ],
          "name": "stdout"
        }
      ]
    },
    {
      "cell_type": "code",
      "metadata": {
        "id": "nW5V7jJ7Tcib"
      },
      "source": [
        "#Dropping the duration column\n",
        "df_dummies.drop(['duration'],axis = 1, inplace = True)"
      ],
      "execution_count": null,
      "outputs": []
    },
    {
      "cell_type": "code",
      "metadata": {
        "colab": {
          "base_uri": "https://localhost:8080/"
        },
        "id": "gejS9kAnTeuD",
        "outputId": "dde4176f-318b-4171-a00a-63cb7a54a121"
      },
      "source": [
        "df_dummies.columns"
      ],
      "execution_count": null,
      "outputs": [
        {
          "output_type": "execute_result",
          "data": {
            "text/plain": [
              "Index(['age', 'campaign', 'pdays', 'previous', 'emp.var.rate',\n",
              "       'cons.price.idx', 'cons.conf.idx', 'euribor3m', 'nr.employed', 'y',\n",
              "       'job_admin.', 'job_blue-collar', 'job_entrepreneur', 'job_housemaid',\n",
              "       'job_management', 'job_retired', 'job_self-employed', 'job_services',\n",
              "       'job_student', 'job_technician', 'job_unemployed', 'job_unknown',\n",
              "       'marital_divorced', 'marital_married', 'marital_single',\n",
              "       'marital_unknown', 'education_basic.4y', 'education_basic.6y',\n",
              "       'education_basic.9y', 'education_high.school', 'education_illiterate',\n",
              "       'education_professional.course', 'education_university.degree',\n",
              "       'education_unknown', 'default_no', 'default_unknown', 'default_yes',\n",
              "       'housing_no', 'housing_unknown', 'housing_yes', 'loan_no',\n",
              "       'loan_unknown', 'loan_yes', 'contact_cellular', 'contact_telephone',\n",
              "       'month_apr', 'month_aug', 'month_dec', 'month_jul', 'month_jun',\n",
              "       'month_mar', 'month_may', 'month_nov', 'month_oct', 'month_sep',\n",
              "       'day_of_week_fri', 'day_of_week_mon', 'day_of_week_thu',\n",
              "       'day_of_week_tue', 'day_of_week_wed', 'poutcome_failure',\n",
              "       'poutcome_nonexistent', 'poutcome_success'],\n",
              "      dtype='object')"
            ]
          },
          "metadata": {
            "tags": []
          },
          "execution_count": 29
        }
      ]
    },
    {
      "cell_type": "code",
      "metadata": {
        "colab": {
          "base_uri": "https://localhost:8080/"
        },
        "id": "sX4k8bRmThIn",
        "outputId": "df03967a-4508-4cb6-a40d-fdc0075a4b70"
      },
      "source": [
        "#Checking for Null values\n",
        "df_dummies.isnull().sum()\n",
        "#No Null values"
      ],
      "execution_count": null,
      "outputs": [
        {
          "output_type": "execute_result",
          "data": {
            "text/plain": [
              "age                     0\n",
              "campaign                0\n",
              "pdays                   0\n",
              "previous                0\n",
              "emp.var.rate            0\n",
              "                       ..\n",
              "day_of_week_tue         0\n",
              "day_of_week_wed         0\n",
              "poutcome_failure        0\n",
              "poutcome_nonexistent    0\n",
              "poutcome_success        0\n",
              "Length: 63, dtype: int64"
            ]
          },
          "metadata": {
            "tags": []
          },
          "execution_count": 30
        }
      ]
    },
    {
      "cell_type": "code",
      "metadata": {
        "colab": {
          "base_uri": "https://localhost:8080/",
          "height": 279
        },
        "id": "DelGuDWPTr4h",
        "outputId": "44212095-64c8-404e-99f9-ca797aad84b6"
      },
      "source": [
        "#Histogram plot of the label\n",
        "sns_plot = sns.histplot(df_dummies['y'])"
      ],
      "execution_count": null,
      "outputs": [
        {
          "output_type": "display_data",
          "data": {
            "image/png": "[encoded data removed]",
            "text/plain": [
              "<Figure size 432x288 with 1 Axes>"
            ]
          },
          "metadata": {
            "tags": []
          }
        }
      ]
    },
    {
      "cell_type": "code",
      "metadata": {
        "colab": {
          "base_uri": "https://localhost:8080/"
        },
        "id": "Y_4l1dr8Ttxw",
        "outputId": "6804c2bb-c0fc-4a44-ee2e-a84629b7cc92"
      },
      "source": [
        "#we have an imbalance dataset\n",
        "values=df_dummies['y'].value_counts()\n",
        "values"
      ],
      "execution_count": null,
      "outputs": [
        {
          "output_type": "execute_result",
          "data": {
            "text/plain": [
              "0    36548\n",
              "1     4640\n",
              "Name: y, dtype: int64"
            ]
          },
          "metadata": {
            "tags": []
          },
          "execution_count": 32
        }
      ]
    },
    {
      "cell_type": "code",
      "metadata": {
        "colab": {
          "base_uri": "https://localhost:8080/"
        },
        "id": "XtjkN6FYT4iU",
        "outputId": "434e9188-3637-43c4-a2af-5763bb66face"
      },
      "source": [
        "values[0]\n",
        "values[1]\n",
        "imblc = values[1]/values[0]\n",
        "imblc"
      ],
      "execution_count": null,
      "outputs": [
        {
          "output_type": "execute_result",
          "data": {
            "text/plain": [
              "0.126956331399803"
            ]
          },
          "metadata": {
            "tags": []
          },
          "execution_count": 33
        }
      ]
    },
    {
      "cell_type": "code",
      "metadata": {
        "id": "xAGcz1V5UI0m"
      },
      "source": [
        "# Split Target/Output from Features\n",
        "y = df_dummies.y # Target variable\n",
        "X = df_dummies.drop('y',axis=1) # Features"
      ],
      "execution_count": null,
      "outputs": []
    },
    {
      "cell_type": "code",
      "metadata": {
        "id": "HU_E1MM5UNPr"
      },
      "source": [
        "#Splitting the data using train_test_split\n",
        "from sklearn.model_selection import train_test_split\n",
        "X_train, X_test, y_train, y_test = train_test_split(X, y,stratify=y,test_size=0.20,random_state=50)"
      ],
      "execution_count": null,
      "outputs": []
    },
    {
      "cell_type": "code",
      "metadata": {
        "colab": {
          "base_uri": "https://localhost:8080/"
        },
        "id": "KfXVtKA9UVq_",
        "outputId": "840dc705-bd53-4290-a68d-61e4fbf5f9ab"
      },
      "source": [
        "from sklearn.metrics import f1_score\n",
        "# Fitting Random Forest Classifier\n",
        "\n",
        "# Create a Random Forest Classifier\n",
        "RF_Classifier = RandomForestClassifier(n_estimators=100,max_depth=3)\n",
        "\n",
        "# Train the model using the training sets\n",
        "RF_Classifier.fit(X_train, y_train)\n",
        "\n",
        "# Predict the response for test dataset\n",
        "y_pred = RF_Classifier.predict(X_test)\n",
        "\n",
        "print(\"F1 score:\", f1_score(y_test, y_pred))"
      ],
      "execution_count": null,
      "outputs": [
        {
          "output_type": "stream",
          "text": [
            "F1 score: 0.28719723183391005\n"
          ],
          "name": "stdout"
        }
      ]
    },
    {
      "cell_type": "code",
      "metadata": {
        "colab": {
          "base_uri": "https://localhost:8080/"
        },
        "id": "tsxe7rdQUatF",
        "outputId": "f342dc2a-e48c-45da-a465-98850fe53420"
      },
      "source": [
        "import sklearn\n",
        "sorted(sklearn.metrics.SCORERS.keys())"
      ],
      "execution_count": null,
      "outputs": [
        {
          "output_type": "execute_result",
          "data": {
            "text/plain": [
              "['accuracy',\n",
              " 'adjusted_mutual_info_score',\n",
              " 'adjusted_rand_score',\n",
              " 'average_precision',\n",
              " 'balanced_accuracy',\n",
              " 'completeness_score',\n",
              " 'explained_variance',\n",
              " 'f1',\n",
              " 'f1_macro',\n",
              " 'f1_micro',\n",
              " 'f1_samples',\n",
              " 'f1_weighted',\n",
              " 'fowlkes_mallows_score',\n",
              " 'homogeneity_score',\n",
              " 'jaccard',\n",
              " 'jaccard_macro',\n",
              " 'jaccard_micro',\n",
              " 'jaccard_samples',\n",
              " 'jaccard_weighted',\n",
              " 'max_error',\n",
              " 'mutual_info_score',\n",
              " 'neg_brier_score',\n",
              " 'neg_log_loss',\n",
              " 'neg_mean_absolute_error',\n",
              " 'neg_mean_gamma_deviance',\n",
              " 'neg_mean_poisson_deviance',\n",
              " 'neg_mean_squared_error',\n",
              " 'neg_mean_squared_log_error',\n",
              " 'neg_median_absolute_error',\n",
              " 'neg_root_mean_squared_error',\n",
              " 'normalized_mutual_info_score',\n",
              " 'precision',\n",
              " 'precision_macro',\n",
              " 'precision_micro',\n",
              " 'precision_samples',\n",
              " 'precision_weighted',\n",
              " 'r2',\n",
              " 'recall',\n",
              " 'recall_macro',\n",
              " 'recall_micro',\n",
              " 'recall_samples',\n",
              " 'recall_weighted',\n",
              " 'roc_auc',\n",
              " 'roc_auc_ovo',\n",
              " 'roc_auc_ovo_weighted',\n",
              " 'roc_auc_ovr',\n",
              " 'roc_auc_ovr_weighted',\n",
              " 'v_measure_score']"
            ]
          },
          "metadata": {
            "tags": []
          },
          "execution_count": 37
        }
      ]
    },
    {
      "cell_type": "code",
      "metadata": {
        "colab": {
          "base_uri": "https://localhost:8080/"
        },
        "id": "MfD0VCIKUced",
        "outputId": "62402371-3e6e-4d2f-e0dd-f6e654be3391"
      },
      "source": [
        "from sklearn.metrics import f1_score\n",
        "# Cross validation scores and prediction\n",
        "score=cross_val_score(RF_Classifier, X_train, y_train)\n",
        "print('cross_val_score=',score)\n",
        "predictions = cross_val_predict(RF_Classifier, X_train, y_train, cv=10)\n",
        "f1_score_clf = f1_score(y_train,predictions)\n",
        "print('Cross-Predicted f1_score:', f1_score_clf)"
      ],
      "execution_count": null,
      "outputs": [
        {
          "output_type": "stream",
          "text": [
            "cross_val_score= [0.89757208 0.89711684 0.89635812 0.89817906 0.89772382]\n",
            "Cross-Predicted f1_score: 0.2486559139784946\n"
          ],
          "name": "stdout"
        }
      ]
    },
    {
      "cell_type": "code",
      "metadata": {
        "colab": {
          "base_uri": "https://localhost:8080/"
        },
        "id": "XKsTyvGuUiNX",
        "outputId": "d97c7f28-152f-4fe5-9b59-81db6964e42f"
      },
      "source": [
        "# Cross validation average scores\n",
        "score=cross_val_score(RF_Classifier, X_train, y_train, cv=10,scoring=\"f1\")\n",
        "print('cross_val_mean:', score.mean())"
      ],
      "execution_count": null,
      "outputs": [
        {
          "output_type": "stream",
          "text": [
            "cross_val_mean: 0.24903387666573776\n"
          ],
          "name": "stdout"
        }
      ]
    },
    {
      "cell_type": "code",
      "metadata": {
        "colab": {
          "base_uri": "https://localhost:8080/"
        },
        "id": "375yjufZUqaZ",
        "outputId": "1a02d48d-0f0c-42f1-d14c-34817dff5eae"
      },
      "source": [
        "dummy_clf = DummyClassifier(strategy='stratified')\n",
        "dummy_clf.fit(X_train, y_train)\n",
        "print(\"Dummy f1_score: \" , f1_score(y_test, dummy_clf.predict(X_test)))"
      ],
      "execution_count": null,
      "outputs": [
        {
          "output_type": "stream",
          "text": [
            "Dummy f1_score:  0.12399786210582577\n"
          ],
          "name": "stdout"
        }
      ]
    },
    {
      "cell_type": "code",
      "metadata": {
        "colab": {
          "background_save": true
        },
        "id": "Jj08w7iHUq6r",
        "outputId": "eeb9a4e7-494c-443c-bd91-771f60de75ae"
      },
      "source": [
        "from sklearn.model_selection import GridSearchCV\n",
        "# Using the GridSearchCV, hyperparameters are tuned\n",
        "# Arranging Parameter Range \n",
        "param_grid = { \n",
        "    'n_estimators': [50,100,200,250,300,400], \n",
        "    'max_features': ['auto'],\n",
        "    'max_depth' : [5,10,20,30],\n",
        "    'criterion' :['gini', 'entropy']\n",
        "}\n",
        "grid = GridSearchCV(estimator=RF_Classifier, param_grid=param_grid, cv= 5)\n",
        "# Model Fitting\n",
        "grid.fit(X_train, y_train)"
      ],
      "execution_count": null,
      "outputs": [
        {
          "output_type": "execute_result",
          "data": {
            "text/plain": [
              "GridSearchCV(cv=5, error_score=nan,\n",
              "             estimator=RandomForestClassifier(bootstrap=True, ccp_alpha=0.0,\n",
              "                                              class_weight=None,\n",
              "                                              criterion='gini', max_depth=3,\n",
              "                                              max_features='auto',\n",
              "                                              max_leaf_nodes=None,\n",
              "                                              max_samples=None,\n",
              "                                              min_impurity_decrease=0.0,\n",
              "                                              min_impurity_split=None,\n",
              "                                              min_samples_leaf=1,\n",
              "                                              min_samples_split=2,\n",
              "                                              min_weight_fraction_leaf=0.0,\n",
              "                                              n_estimators=100, n_jobs=None,\n",
              "                                              oob_score=False,\n",
              "                                              random_state=None, verbose=0,\n",
              "                                              warm_start=False),\n",
              "             iid='deprecated', n_jobs=None,\n",
              "             param_grid={'criterion': ['gini', 'entropy'],\n",
              "                         'max_depth': [5, 10, 15, 20, 25, 30],\n",
              "                         'max_features': ['auto'],\n",
              "                         'n_estimators': [50, 100, 150, 200, 250, 300, 350,\n",
              "                                          400]},\n",
              "             pre_dispatch='2*n_jobs', refit=True, return_train_score=False,\n",
              "             scoring=None, verbose=0)"
            ]
          },
          "metadata": {
            "tags": []
          },
          "execution_count": 0
        }
      ]
    },
    {
      "cell_type": "code",
      "metadata": {
        "id": "rk7H3NYNVCHX",
        "colab": {
          "base_uri": "https://localhost:8080/"
        },
        "outputId": "e8789c1a-5d48-430d-94b2-6494fcb885f3"
      },
      "source": [
        "# Best parameter after tuning \n",
        "print(grid.best_params_)"
      ],
      "execution_count": 53,
      "outputs": [
        {
          "output_type": "stream",
          "text": [
            "{'criterion': 'entropy', 'max_depth': 10, 'max_features': 'auto', 'n_estimators': 250}\n"
          ],
          "name": "stdout"
        }
      ]
    },
    {
      "cell_type": "code",
      "metadata": {
        "id": "UQbXGiNLVHAX",
        "colab": {
          "base_uri": "https://localhost:8080/"
        },
        "outputId": "603e57fc-92a8-43e9-94a0-68d052db6c9d"
      },
      "source": [
        "# Fitting Random Forest Classifier to the dataset after hyperparameter tuning\n",
        "# Create a Random Forest Classifier\n",
        "RF_Classifier = RandomForestClassifier(n_estimators=200,max_depth=10,max_features='auto',criterion='entropy')\n",
        "\n",
        "# Train the model using the training sets\n",
        "RF_Classifier.fit(X_train, y_train)\n",
        "\n",
        "# Predict the response for test dataset\n",
        "y_pred = RF_Classifier.predict(X_test)\n",
        "\n",
        "print(\"F1 score:\", f1_score(y_test, y_pred,average='weighted'))"
      ],
      "execution_count": 54,
      "outputs": [
        {
          "output_type": "stream",
          "text": [
            "F1 score: 0.8795187934916056\n"
          ],
          "name": "stdout"
        }
      ]
    },
    {
      "cell_type": "code",
      "metadata": {
        "id": "Lx8BMGi9VJE7",
        "colab": {
          "base_uri": "https://localhost:8080/"
        },
        "outputId": "237a7b06-8629-4792-f394-1e12d0f37abe"
      },
      "source": [
        "from sklearn.metrics import f1_score\n",
        "# Checking the cross validation scores and prediction\n",
        "score=cross_val_score(RF_Classifier, X_train, y_train)\n",
        "print('cross_val_score=',score)\n",
        "predictions = cross_val_predict(RF_Classifier, X_train, y_train, cv=10)\n",
        "f1_score_clf = f1_score(y_train,predictions,average='weighted')\n",
        "print('Cross-Predicted f1_score:', f1_score_clf)"
      ],
      "execution_count": 56,
      "outputs": [
        {
          "output_type": "stream",
          "text": [
            "cross_val_score= [0.90242792 0.89802731 0.89878604 0.90379363 0.89939302]\n",
            "Cross-Predicted f1_score: 0.8776625642820565\n"
          ],
          "name": "stdout"
        }
      ]
    },
    {
      "cell_type": "code",
      "metadata": {
        "id": "qkaE2qKPVLSH",
        "colab": {
          "base_uri": "https://localhost:8080/"
        },
        "outputId": "86f0dc6e-c95e-4b4a-9cd1-a39a8abb4069"
      },
      "source": [
        "#Checking the cross validation average scores\n",
        "score=cross_val_score(RF_Classifier, X_train, y_train, cv=10,scoring=\"f1\")\n",
        "print('cross_val_mean:', score.mean())"
      ],
      "execution_count": 57,
      "outputs": [
        {
          "output_type": "stream",
          "text": [
            "cross_val_mean: 0.3310752642698122\n"
          ],
          "name": "stdout"
        }
      ]
    },
    {
      "cell_type": "code",
      "metadata": {
        "id": "0j0DFA77VT0_"
      },
      "source": [
        "#Assigning the column names to features\n",
        "features=['age', 'campaign', 'pdays', 'previous', 'emp.var.rate',\n",
        "       'cons.price.idx', 'cons.conf.idx', 'euribor3m', 'nr.employed', 'y',\n",
        "       'job_admin.', 'job_blue-collar', 'job_entrepreneur', 'job_housemaid',\n",
        "       'job_management', 'job_retired', 'job_self-employed', 'job_services',\n",
        "       'job_student', 'job_technician', 'job_unemployed', 'job_unknown',\n",
        "       'marital_divorced', 'marital_married', 'marital_single',\n",
        "       'marital_unknown', 'education_basic.4y', 'education_basic.6y',\n",
        "       'education_basic.9y', 'education_high.school', 'education_illiterate',\n",
        "       'education_professional.course', 'education_university.degree',\n",
        "       'education_unknown', 'default_no', 'default_unknown', 'default_yes',\n",
        "       'housing_no', 'housing_unknown', 'housing_yes', 'loan_no',\n",
        "       'loan_unknown', 'loan_yes', 'contact_cellular', 'contact_telephone',\n",
        "       'month_apr', 'month_aug', 'month_dec', 'month_jul', 'month_jun',\n",
        "       'month_mar', 'month_may', 'month_nov', 'month_oct', 'month_sep',\n",
        "       'day_of_week_fri', 'day_of_week_mon', 'day_of_week_thu',\n",
        "       'day_of_week_tue', 'day_of_week_wed', 'poutcome_failure',\n",
        "       'poutcome_nonexistent', 'poutcome_success']"
      ],
      "execution_count": 58,
      "outputs": []
    },
    {
      "cell_type": "code",
      "metadata": {
        "id": "5isd8uLsVWCM",
        "colab": {
          "base_uri": "https://localhost:8080/",
          "height": 1000
        },
        "outputId": "9c8b37db-798f-4eda-93e8-05678512ea0a"
      },
      "source": [
        "# Feature Importance\n",
        "importances = RF_Classifier.feature_importances_\n",
        "std = np.std([tree.feature_importances_ for tree in RF_Classifier.estimators_],\n",
        "             axis=0)\n",
        "indices = np.argsort(importances)[::-1]\n",
        "print(indices)\n",
        "\n",
        "# Feature rankings\n",
        "print(\"Feature ranking:\")\n",
        "\n",
        "for f in range(X.shape[1]):\n",
        "    print(\"%d. %s (%f)\" % (f + 1, features[indices[f]],  importances[indices[f]]))\n",
        "\n",
        "# Plot the Feature Importance\n",
        "fig = plt.figure()\n",
        "plt.title(\"Feature's Importance\")\n",
        "plt.bar(range(X.shape[1]), importances[indices],\n",
        "       color=\"r\", yerr=std[indices], align=\"center\")\n",
        "plt.xticks(range(X.shape[1]), np.array(features)[indices])\n",
        "plt.xlim([-1, X.shape[1]])\n",
        "plt.ylim([0, None])\n",
        "\n",
        "fig.set_size_inches(15, 8)\n",
        "\n",
        "# plt.savefig(\"importance.pdf\", bbox_inches='tight')\n",
        "\n",
        "# We see the top 3 are:\n",
        "#1. nr.employed (0.156643)\n",
        "#2. euribor3m (0.156275)\n",
        "#3. emp.var.rate (0.081952)"
      ],
      "execution_count": 59,
      "outputs": [
        {
          "output_type": "stream",
          "text": [
            "[ 8  7  4  2  6 61  5  0  3 43  1 50 60 42 52 59 49 44 55 34 33 10 31 23\n",
            " 54 22 48 56 57 36 38 58 14 28 41 27  9 39 30 18 25 17 21 51 16 47 32 53\n",
            " 13 45 26 15 12 19 11 37 40 20 46 24 29 35]\n",
            "Feature ranking:\n",
            "1. nr.employed (0.162125)\n",
            "2. euribor3m (0.139077)\n",
            "3. emp.var.rate (0.101480)\n",
            "4. pdays (0.067949)\n",
            "5. cons.conf.idx (0.066642)\n",
            "6. poutcome_nonexistent (0.054663)\n",
            "7. cons.price.idx (0.051232)\n",
            "8. age (0.040926)\n",
            "9. previous (0.020221)\n",
            "10. contact_cellular (0.019851)\n",
            "11. campaign (0.019109)\n",
            "12. month_mar (0.018455)\n",
            "13. poutcome_failure (0.018113)\n",
            "14. loan_yes (0.015747)\n",
            "15. month_nov (0.011773)\n",
            "16. day_of_week_wed (0.010830)\n",
            "17. month_jun (0.010116)\n",
            "18. contact_telephone (0.008100)\n",
            "19. day_of_week_fri (0.007642)\n",
            "20. default_no (0.007502)\n",
            "21. education_unknown (0.007167)\n",
            "22. job_admin. (0.006559)\n",
            "23. education_professional.course (0.006086)\n",
            "24. marital_married (0.005285)\n",
            "25. month_sep (0.005273)\n",
            "26. marital_divorced (0.005271)\n",
            "27. month_jul (0.005225)\n",
            "28. day_of_week_mon (0.005195)\n",
            "29. day_of_week_thu (0.005171)\n",
            "30. default_yes (0.004917)\n",
            "31. housing_unknown (0.004831)\n",
            "32. day_of_week_tue (0.004714)\n",
            "33. job_management (0.004657)\n",
            "34. education_basic.9y (0.004568)\n",
            "35. loan_unknown (0.004274)\n",
            "36. education_basic.6y (0.004251)\n",
            "37. y (0.004011)\n",
            "38. housing_yes (0.003951)\n",
            "39. education_illiterate (0.003742)\n",
            "40. job_student (0.003578)\n",
            "41. marital_unknown (0.003387)\n",
            "42. job_services (0.003329)\n",
            "43. job_unknown (0.003292)\n",
            "44. month_may (0.003284)\n",
            "45. job_self-employed (0.003218)\n",
            "46. month_dec (0.003047)\n",
            "47. education_university.degree (0.003046)\n",
            "48. month_oct (0.002812)\n",
            "49. job_housemaid (0.002798)\n",
            "50. month_apr (0.002672)\n",
            "51. education_basic.4y (0.002456)\n",
            "52. job_retired (0.002449)\n",
            "53. job_entrepreneur (0.002391)\n",
            "54. job_technician (0.002285)\n",
            "55. job_blue-collar (0.001960)\n",
            "56. housing_no (0.001958)\n",
            "57. loan_no (0.001944)\n",
            "58. job_unemployed (0.001528)\n",
            "59. month_aug (0.000963)\n",
            "60. marital_single (0.000677)\n",
            "61. education_high.school (0.000223)\n",
            "62. default_unknown (0.000000)\n"
          ],
          "name": "stdout"
        },
        {
          "output_type": "display_data",
          "data": {
            "image/png": "[encoded data removed]",
            "text/plain": [
              "<Figure size 1080x576 with 1 Axes>"
            ]
          },
          "metadata": {
            "tags": [],
            "needs_background": "light"
          }
        }
      ]
    },
    {
      "cell_type": "markdown",
      "metadata": {
        "id": "vKov6-ZsXlQF"
      },
      "source": [
        "## Quiz Calculations"
      ]
    },
    {
      "cell_type": "code",
      "metadata": {
        "id": "0PPPsqPqVwOJ",
        "colab": {
          "base_uri": "https://localhost:8080/"
        },
        "outputId": "69357813-f174-4e73-cfd8-903c6ee2ba02"
      },
      "source": [
        "from sklearn.metrics import f1_score\n",
        "# Create a Random Forest Classifier\n",
        "RF1_Classifier = RandomForestClassifier(n_estimators=200,max_depth=8)\n",
        "\n",
        "#Train the model using the training sets\n",
        "RF1_Classifier.fit(X_train, y_train)\n",
        "\n",
        "#Predict the response for test dataset\n",
        "y_pred = RF1_Classifier.predict(X_test)\n",
        "\n",
        "print(\"F1 score:\", f1_score(y_test, y_pred))"
      ],
      "execution_count": 60,
      "outputs": [
        {
          "output_type": "stream",
          "text": [
            "F1 score: 0.3245901639344262\n"
          ],
          "name": "stdout"
        }
      ]
    },
    {
      "cell_type": "code",
      "metadata": {
        "id": "mhnDIDc0awKU",
        "colab": {
          "base_uri": "https://localhost:8080/"
        },
        "outputId": "657e03df-a7da-4b08-fb75-aea11e60e155"
      },
      "source": [
        "from sklearn.metrics import f1_score\n",
        "# Create a Random Forest Classifier\n",
        "RF2_Classifier = RandomForestClassifier(n_estimators=150,max_depth=6)\n",
        "\n",
        "#Train the model using the training sets\n",
        "RF2_Classifier.fit(X_train, y_train)\n",
        "\n",
        "#Predict the response for test dataset\n",
        "y_pred = RF2_Classifier.predict(X_test)\n",
        "\n",
        "print(\"F1 score:\", f1_score(y_test, y_pred))"
      ],
      "execution_count": 61,
      "outputs": [
        {
          "output_type": "stream",
          "text": [
            "F1 score: 0.30962343096234307\n"
          ],
          "name": "stdout"
        }
      ]
    },
    {
      "cell_type": "code",
      "metadata": {
        "id": "zp66lM7tbKc_",
        "colab": {
          "base_uri": "https://localhost:8080/"
        },
        "outputId": "01761c5e-1e72-44ba-ef63-5e7c4575b283"
      },
      "source": [
        "#For n_estimators=100,max_depth=8,random_state=60 generalisation error\n",
        "from sklearn.metrics import f1_score\n",
        "\n",
        "RF_Classifier = RandomForestClassifier(n_estimators=100,max_depth=8,random_state=60)\n",
        "\n",
        "#Train the model using the training sets\n",
        "RF_Classifier.fit(X_train, y_train)\n",
        "\n",
        "#Predict the response for test dataset\n",
        "y_pred = RF_Classifier.predict(X_test)\n",
        "\n",
        "print(\"F1 score:\", f1_score(y_test, y_pred))"
      ],
      "execution_count": 62,
      "outputs": [
        {
          "output_type": "stream",
          "text": [
            "F1 score: 0.3360522022838499\n"
          ],
          "name": "stdout"
        }
      ]
    },
    {
      "cell_type": "code",
      "metadata": {
        "id": "ZUly7r-rb7OW",
        "colab": {
          "base_uri": "https://localhost:8080/"
        },
        "outputId": "04fb12e3-7585-45ee-97a5-894338777cb5"
      },
      "source": [
        "\n",
        "\n",
        "#For n_estimators=100,max_depth=12,random_state=60 top 3 features\n",
        "from sklearn.metrics import f1_score\n",
        "# Fitting Random Forest Classifier to the dataset \n",
        "#Create a Random Forest Classifier\n",
        "RF_Classifier = RandomForestClassifier(n_estimators=1000,max_depth=10,random_state=60)\n",
        "\n",
        "#Train the model using the training sets\n",
        "RF_Classifier.fit(X_train, y_train)\n",
        "\n",
        "#Predict the response for test dataset\n",
        "y_pred = RF_Classifier.predict(X_test)\n",
        "\n",
        "print(\"F1 score:\", f1_score(y_test, y_pred))\n",
        "\n"
      ],
      "execution_count": 63,
      "outputs": [
        {
          "output_type": "stream",
          "text": [
            "F1 score: 0.3581616481774961\n"
          ],
          "name": "stdout"
        }
      ]
    },
    {
      "cell_type": "code",
      "metadata": {
        "id": "hgYF7SpscA1N",
        "colab": {
          "base_uri": "https://localhost:8080/",
          "height": 1000
        },
        "outputId": "1c8555de-6a05-426f-f676-728aacb6eaf3"
      },
      "source": [
        "#Feature importance for n_estimators=100,max_depth=12,random_state=60\n",
        "importances = RF_Classifier.feature_importances_\n",
        "std = np.std([tree.feature_importances_ for tree in RF_Classifier.estimators_],\n",
        "             axis=0)\n",
        "indices = np.argsort(importances)[::-1]\n",
        "print(indices)\n",
        "\n",
        "# Print the feature ranking\n",
        "print(\"Feature ranking:\")\n",
        "\n",
        "for f in range(X.shape[1]):\n",
        "    print(\"%d. %s (%f)\" % (f + 1, features[indices[f]],  importances[indices[f]]))\n",
        "\n",
        "# Plot the feature importances of the forest\n",
        "fig = plt.figure()\n",
        "plt.title(\"Feature importances\")\n",
        "plt.bar(range(X.shape[1]), importances[indices],\n",
        "       color=\"r\", yerr=std[indices], align=\"center\")\n",
        "plt.xticks(range(X.shape[1]), np.array(features)[indices])\n",
        "plt.xlim([-1, X.shape[1]])\n",
        "plt.ylim([0, None])\n",
        "\n",
        "fig.set_size_inches(15, 8)"
      ],
      "execution_count": 64,
      "outputs": [
        {
          "output_type": "stream",
          "text": [
            "[ 8  7  2 61  4  6  5  0  3  1 60 59 52 49 42 50 43 55 44 31 56 54 38 57\n",
            " 36 10 23 48 22 58 14 28 33 17 34 53  9 39 18 30 41 27 21 25 32 45 16 13\n",
            " 51 47 15 26 19 46 12 40 37 20 11 24 29 35]\n",
            "Feature ranking:\n",
            "1. nr.employed (0.146933)\n",
            "2. euribor3m (0.142862)\n",
            "3. pdays (0.093918)\n",
            "4. poutcome_nonexistent (0.074663)\n",
            "5. emp.var.rate (0.066610)\n",
            "6. cons.conf.idx (0.065194)\n",
            "7. cons.price.idx (0.053372)\n",
            "8. age (0.044744)\n",
            "9. previous (0.025034)\n",
            "10. campaign (0.017224)\n",
            "11. poutcome_failure (0.016363)\n",
            "12. day_of_week_wed (0.015769)\n",
            "13. month_nov (0.014927)\n",
            "14. month_jun (0.014474)\n",
            "15. loan_yes (0.013814)\n",
            "16. month_mar (0.013082)\n",
            "17. contact_cellular (0.012080)\n",
            "18. day_of_week_fri (0.008207)\n",
            "19. contact_telephone (0.007968)\n",
            "20. education_professional.course (0.006273)\n",
            "21. day_of_week_mon (0.005442)\n",
            "22. month_sep (0.005422)\n",
            "23. housing_unknown (0.005376)\n",
            "24. day_of_week_thu (0.005311)\n",
            "25. default_yes (0.005295)\n",
            "26. job_admin. (0.005134)\n",
            "27. marital_married (0.005124)\n",
            "28. month_jul (0.005032)\n",
            "29. marital_divorced (0.004991)\n",
            "30. day_of_week_tue (0.004980)\n",
            "31. job_management (0.004866)\n",
            "32. education_basic.9y (0.004823)\n",
            "33. education_unknown (0.004708)\n",
            "34. job_services (0.004612)\n",
            "35. default_no (0.004599)\n",
            "36. month_oct (0.004518)\n",
            "37. y (0.004422)\n",
            "38. housing_yes (0.004387)\n",
            "39. job_student (0.004244)\n",
            "40. education_illiterate (0.004076)\n",
            "41. loan_unknown (0.004007)\n",
            "42. education_basic.6y (0.003719)\n",
            "43. job_unknown (0.003265)\n",
            "44. marital_unknown (0.003184)\n",
            "45. education_university.degree (0.003179)\n",
            "46. month_apr (0.002820)\n",
            "47. job_self-employed (0.002763)\n",
            "48. job_housemaid (0.002623)\n",
            "49. month_may (0.002505)\n",
            "50. month_dec (0.002504)\n",
            "51. job_retired (0.002414)\n",
            "52. education_basic.4y (0.002323)\n",
            "53. job_technician (0.002310)\n",
            "54. month_aug (0.001927)\n",
            "55. job_entrepreneur (0.001896)\n",
            "56. loan_no (0.001845)\n",
            "57. housing_no (0.001785)\n",
            "58. job_unemployed (0.001583)\n",
            "59. job_blue-collar (0.001563)\n",
            "60. marital_single (0.000677)\n",
            "61. education_high.school (0.000234)\n",
            "62. default_unknown (0.000000)\n"
          ],
          "name": "stdout"
        },
        {
          "output_type": "display_data",
          "data": {
            "image/png": "[encoded data removed]",
            "text/plain": [
              "<Figure size 1080x576 with 1 Axes>"
            ]
          },
          "metadata": {
            "tags": [],
            "needs_background": "light"
          }
        }
      ]
    }
  ]
}
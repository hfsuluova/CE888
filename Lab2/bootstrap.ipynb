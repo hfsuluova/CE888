{
  "nbformat": 4,
  "nbformat_minor": 0,
  "metadata": {
    "colab": {
      "name": "bootstrap.ipynb",
      "provenance": [],
      "collapsed_sections": [],
      "include_colab_link": true
    },
    "kernelspec": {
      "display_name": "Python 3",
      "language": "python",
      "name": "python3"
    },
    "language_info": {
      "codemirror_mode": {
        "name": "ipython",
        "version": 3
      },
      "file_extension": ".py",
      "mimetype": "text/x-python",
      "name": "python",
      "nbconvert_exporter": "python",
      "pygments_lexer": "ipython3",
      "version": "3.7.6"
    },
    "pycharm": {
      "stem_cell": {
        "cell_type": "raw",
        "metadata": {
          "collapsed": false
        },
        "source": []
      }
    }
  },
  "cells": [
    {
      "cell_type": "markdown",
      "metadata": {
        "id": "view-in-github",
        "colab_type": "text"
      },
      "source": [
        "<a href=\"https://colab.research.google.com/github/hfsuluova/CE888/blob/main/Lab2/bootstrap.ipynb\" target=\"_parent\"><img src=\"https://colab.research.google.com/assets/colab-badge.svg\" alt=\"Open In Colab\"/></a>"
      ]
    },
    {
      "cell_type": "markdown",
      "metadata": {
        "id": "nCi_99yMYIb1"
      },
      "source": [
        "In this notebook you'll create your own bootstrap function following the bootstrap algorithm (check the lecture notes!)"
      ]
    },
    {
      "cell_type": "code",
      "metadata": {
        "id": "LY5zujI2YC37",
        "pycharm": {
          "name": "#%%# Imports\n"
        }
      },
      "source": [
        "import matplotlib\n",
        "import pandas as pd\n",
        "import seaborn as sns\n",
        "import numpy as np\n",
        "\n"
      ],
      "execution_count": 1,
      "outputs": []
    },
    {
      "cell_type": "code",
      "metadata": {
        "id": "Eqkwj4SMY38t"
      },
      "source": [
        "# Load the data\n",
        "df = pd.read_csv('https://raw.githubusercontent.com/albanda/CE888/master/lab2%20-%20bootstrap/customers.csv')\n",
        "data = df.values.T[1]"
      ],
      "execution_count": 2,
      "outputs": []
    },
    {
      "cell_type": "code",
      "metadata": {
        "id": "Gxvc_bScYC4H",
        "pycharm": {
          "name": "#%%\n"
        }
      },
      "source": [
        "# Checking the notes from the lecture, create here your own bootstrap function:\n",
        "# 1. Sample from the input array x to create an array of samples of shape (n_bootstraps, sample_size)\n",
        "# Hint: Check the function random.choice() on Numpy\n",
        "# 2. Calculate and save the mean of the array (this is \"data_mean\" that is returned by the function)\n",
        "# 3. Calculate the mean from each bootstrap (i.e., row) and store it.\n",
        "# (This should be an array of n_bootstraps values)\n",
        "# 4. Calculate the lower and upper bounds for a 95% CI (hint: check the percentile function on Numpy)\n",
        "# 5. Return data_mean, and the lower and upper bounds of your interval\n",
        "def bootstrap_mean(x, sample_size, n_bootstraps):\n",
        "  alist = []\n",
        "  data_mean1 = []\n",
        "  for i in range(n_bootstraps):\n",
        "    alist.append(np.random.choice(x, sample_size, True))\n",
        "  for sample_set in alist:\n",
        "    data_mean1.append(np.mean(sample_set))\n",
        "  data_mean1.sort()\n",
        "  data_mean = np.mean(data_mean1)\n",
        "  lower = np.percentile(data_mean1, 2.5)\n",
        "  upper = np.percentile(data_mean1, 97.5)\n",
        "  return data_mean, lower, upper\n"
      ],
      "execution_count": 3,
      "outputs": []
    },
    {
      "cell_type": "markdown",
      "metadata": {
        "id": "0ZKjOrLxTg4B"
      },
      "source": [
        ""
      ]
    },
    {
      "cell_type": "code",
      "metadata": {
        "id": "AN7sEOcMYC4P",
        "pycharm": {
          "name": "#%%\n"
        },
        "colab": {
          "base_uri": "https://localhost:8080/",
          "height": 458
        },
        "outputId": "d51933ac-0404-4561-bd89-6d143c683a62"
      },
      "source": [
        "# Call your bootstrap function and plot the results\n",
        "\n",
        "boots = []\n",
        "for i in range(100, 50000, 1000):\n",
        "    boot = bootstrap_mean(data, data.shape[0], i)\n",
        "    boots.append([i, boot[0], \"mean\"])\n",
        "    boots.append([i, boot[1], \"lower\"])\n",
        "    boots.append([i, boot[2], \"upper\"])\n",
        "\n",
        "df_boot = pd.DataFrame(boots, columns=['Bootstrap Iterations', 'Mean', \"Value\"])\n",
        "sns_plot = sns.lmplot(df_boot.columns[0], df_boot.columns[1], data=df_boot, fit_reg=False, hue=\"Value\")\n",
        "\n",
        "sns_plot.axes[0, 0].set_ylim(0,15)\n",
        "sns_plot.axes[0, 0].set_xlim(0, 100000)\n"
      ],
      "execution_count": 4,
      "outputs": [
        {
          "output_type": "stream",
          "text": [
            "/usr/local/lib/python3.7/dist-packages/seaborn/_decorators.py:43: FutureWarning: Pass the following variables as keyword args: x, y. From version 0.12, the only valid positional argument will be `data`, and passing other arguments without an explicit keyword will result in an error or misinterpretation.\n",
            "  FutureWarning\n"
          ],
          "name": "stderr"
        },
        {
          "output_type": "execute_result",
          "data": {
            "text/plain": [
              "(0.0, 100000.0)"
            ]
          },
          "metadata": {
            "tags": []
          },
          "execution_count": 4
        },
        {
          "output_type": "display_data",
          "data": {
            "image/png": "[encoded data removed]",
            "text/plain": [
              "<Figure size 425.125x360 with 1 Axes>"
            ]
          },
          "metadata": {
            "tags": [],
            "needs_background": "light"
          }
        }
      ]
    },
    {
      "cell_type": "markdown",
      "metadata": {
        "id": "MjtP4e2_YC4V"
      },
      "source": [
        "\n",
        "Now, modify the bootstrap function you created above so that you can pass your desired confidence interval as a parameter.\n",
        "\n"
      ]
    },
    {
      "cell_type": "code",
      "metadata": {
        "id": "KpAOXkQ73wmR"
      },
      "source": [
        "#CI of STD deviation\n",
        "def bootstrap_stdev_ci(sample, sample_size, n_bootstraps, ci):\n",
        "  alist = []\n",
        "  data_std1 = []\n",
        "  for i in range(n_bootstraps):\n",
        "    alist.append(np.random.choice(sample, sample_size, True))\n",
        "  for sample_set in alist:\n",
        "    data_std1.append(np.std(sample_set))\n",
        "  data_std1.sort()\n",
        "  data_std = np.std(data_std1)\n",
        "  lower = np.percentile(data_std1, (100-ci)/2)\n",
        "  upper = np.percentile(data_std1, 100-((100-ci)/2))\n",
        "  return data_std, lower, upper"
      ],
      "execution_count": 5,
      "outputs": []
    },
    {
      "cell_type": "code",
      "metadata": {
        "id": "3K9j0FuGYhHs"
      },
      "source": [
        "def bootstrap_mean_ci(sample, sample_size, n_bootstraps, ci):\n",
        "  alist = []\n",
        "  data_mean1 = []\n",
        "  for i in range(n_bootstraps):\n",
        "    alist.append(np.random.choice(sample, sample_size, True))\n",
        "  for sample_set in alist:\n",
        "    data_mean1.append(np.mean(sample_set))\n",
        "  data_mean1.sort()\n",
        "  data_mean = np.mean(data_mean1)\n",
        "  lower = np.percentile(data_mean1, (100-ci)/2)\n",
        "  upper = np.percentile(data_mean1, 100-((100-ci)/2))\n",
        "  return data_mean, lower, upper"
      ],
      "execution_count": 6,
      "outputs": []
    },
    {
      "cell_type": "code",
      "metadata": {
        "id": "uDnjq08GYl-C",
        "colab": {
          "base_uri": "https://localhost:8080/",
          "height": 458
        },
        "outputId": "bb3f98b3-1cd3-4560-c974-ea583c959ae5"
      },
      "source": [
        "boots = []\n",
        "for i in range(100, 50000, 1000):\n",
        "    boot = bootstrap_mean_ci(data, data.shape[0], i, 80)\n",
        "    boots.append([i, boot[0], \"mean\"])\n",
        "    boots.append([i, boot[1], \"lower\"])\n",
        "    boots.append([i, boot[2], \"upper\"])\n",
        "\n",
        "df_boot = pd.DataFrame(boots, columns=['Boostrap Iterations', 'Mean', \"Value\"])\n",
        "sns_plot = sns.lmplot(df_boot.columns[0], df_boot.columns[1], data=df_boot, fit_reg=False, hue=\"Value\")\n",
        "\n",
        "sns_plot.axes[0, 0].set_ylim(0,15)\n",
        "sns_plot.axes[0, 0].set_xlim(0, 100000)\n",
        "\n",
        "#sns_plot.savefig(\"bootstrap_confidence_80.pdf\", bbox_inches='tight')\n"
      ],
      "execution_count": 7,
      "outputs": [
        {
          "output_type": "stream",
          "text": [
            "/usr/local/lib/python3.7/dist-packages/seaborn/_decorators.py:43: FutureWarning: Pass the following variables as keyword args: x, y. From version 0.12, the only valid positional argument will be `data`, and passing other arguments without an explicit keyword will result in an error or misinterpretation.\n",
            "  FutureWarning\n"
          ],
          "name": "stderr"
        },
        {
          "output_type": "execute_result",
          "data": {
            "text/plain": [
              "(0.0, 100000.0)"
            ]
          },
          "metadata": {
            "tags": []
          },
          "execution_count": 7
        },
        {
          "output_type": "display_data",
          "data": {
            "image/png": "[encoded data removed]",
            "text/plain": [
              "<Figure size 425.125x360 with 1 Axes>"
            ]
          },
          "metadata": {
            "tags": [],
            "needs_background": "light"
          }
        }
      ]
    },
    {
      "cell_type": "markdown",
      "metadata": {
        "id": "qjNgXW6wdd7r"
      },
      "source": [
        "# Vehicles dataset\n",
        "\n",
        "Now let's work on a different dataset, which is stored in the vehicles.csv file.\n"
      ]
    },
    {
      "cell_type": "code",
      "metadata": {
        "id": "avWv4ipFdpka"
      },
      "source": [
        "# Load and visualise the vehicles dataset\n",
        "# To load the dataset: https://neptune.ai/blog/google-colab-dealing-with-files (check section \"Load individual files directly from GitHub\")\n",
        "# Note that the current and new fleets are in different columns and have different lengths, so bear this in mind when you're plotting.\n",
        "# You can create separate scatterplots for the two fleets, as you would with the histograms, \n",
        "# or plot them both in one plot (but not one against the other).\n",
        "\n",
        "df = pd.read_csv('https://raw.githubusercontent.com/albanda/CE888/master/lab2%20-%20bootstrap/vehicles.csv')\n",
        "\n",
        "current = df.values.T[0][np.logical_not(np.isnan(df.values.T[0]))]\n",
        "new = df.values.T[1][np.logical_not(np.isnan(df.values.T[1]))]\n",
        "#Avoiding 'nan' values while assigning columns to variables\n",
        "# Note: you can add more cells as needed to organise your code and your plots\n",
        "\n",
        "\n"
      ],
      "execution_count": 8,
      "outputs": []
    },
    {
      "cell_type": "code",
      "metadata": {
        "colab": {
          "base_uri": "https://localhost:8080/",
          "height": 283
        },
        "id": "_RlxeyluDsP5",
        "outputId": "ed8495a7-3107-4a5d-e94f-e6e852aded77"
      },
      "source": [
        "#Histogram plotting of dataset\n",
        "#Current Fleet\n",
        "\n",
        "df['Current fleet'].plot(kind='hist')\n"
      ],
      "execution_count": 9,
      "outputs": [
        {
          "output_type": "execute_result",
          "data": {
            "text/plain": [
              "<matplotlib.axes._subplots.AxesSubplot at 0x7f02fb996b10>"
            ]
          },
          "metadata": {
            "tags": []
          },
          "execution_count": 9
        },
        {
          "output_type": "display_data",
          "data": {
            "image/png": "[encoded data removed]",
            "text/plain": [
              "<Figure size 432x288 with 1 Axes>"
            ]
          },
          "metadata": {
            "tags": [],
            "needs_background": "light"
          }
        }
      ]
    },
    {
      "cell_type": "code",
      "metadata": {
        "id": "iwhMSKkYoJGB",
        "colab": {
          "base_uri": "https://localhost:8080/",
          "height": 283
        },
        "outputId": "224c7050-cbe0-44f0-dc99-6e5ad45ac72d"
      },
      "source": [
        "#Histogram plotting of dataset\n",
        "#New Fleet\n",
        "\n",
        "df['New Fleet'].plot(kind='hist')"
      ],
      "execution_count": 10,
      "outputs": [
        {
          "output_type": "execute_result",
          "data": {
            "text/plain": [
              "<matplotlib.axes._subplots.AxesSubplot at 0x7f02fba53bd0>"
            ]
          },
          "metadata": {
            "tags": []
          },
          "execution_count": 10
        },
        {
          "output_type": "display_data",
          "data": {
            "image/png": "[encoded data removed]",
            "text/plain": [
              "<Figure size 432x288 with 1 Axes>"
            ]
          },
          "metadata": {
            "tags": [],
            "needs_background": "light"
          }
        }
      ]
    },
    {
      "cell_type": "markdown",
      "metadata": {
        "id": "B5d0tXDpIEj8"
      },
      "source": [
        "## Compare the two fleets\n",
        "\n",
        "The business analysts come up a comparison algorithm that requires the upper and lower bounds for the mean in order to say which fleet is better.\n",
        "1. Calculate the mean of both samples.\n",
        "2. Using the bootstrap function that you created:\n",
        "    - Construct the 95% CI of the mean of the current fleet.\n",
        "    - Construct the 95% CI of the mean of the new fleet.\n",
        "    - Are they comparable? (i.e., is one better than the other?) -- you can do this with a permutation test (check the lecture notes!)"
      ]
    },
    {
      "cell_type": "code",
      "metadata": {
        "id": "po4mp6zRHC0m",
        "colab": {
          "base_uri": "https://localhost:8080/",
          "height": 865
        },
        "outputId": "fb81411f-113c-424f-8aaf-85119eb97635"
      },
      "source": [
        "boots_c = []\n",
        "for i in range(100, 50000, 1000):\n",
        "    boot_c = bootstrap_mean_ci(current, data.shape[0], i, 95)\n",
        "    boots_c.append([i, boot_c[0], \"mean\"])\n",
        "    boots_c.append([i, boot_c[1], \"lower\"])\n",
        "    boots_c.append([i, boot_c[2], \"upper\"])\n",
        "df_boot_c = pd.DataFrame(boots_c, columns=['Boostrap Iterations', 'Mean', \"Value\"])\n",
        "sns_plot_c = sns.lmplot(df_boot_c.columns[0], df_boot_c.columns[1], data=df_boot_c, fit_reg=False, hue=\"Value\")\n",
        "\n",
        "sns_plot_c.axes[0, 0].set_ylim(0,25)\n",
        "sns_plot_c.axes[0, 0].set_xlim(0, 100000)\n",
        "\n",
        "boots_n = []\n",
        "for j in range(100, 50000, 1000):\n",
        "    boot_n = bootstrap_mean_ci(new, data.shape[0], j, 95)\n",
        "    boots_n.append([j, boot_n[0], \"mean\"])\n",
        "    boots_n.append([j, boot_n[1], \"lower\"])\n",
        "    boots_n.append([j, boot_n[2], \"upper\"])\n",
        "\n",
        "df_boot_n = pd.DataFrame(boots_n, columns=['Boostrap Iterations', 'Mean', \"Value\"])\n",
        "sns_plot_n = sns.lmplot(df_boot_n.columns[0], df_boot_n.columns[1], data=df_boot_n, fit_reg=False, hue=\"Value\")\n",
        "\n",
        "sns_plot_n.axes[0, 0].set_ylim(0,)\n",
        "sns_plot_n.axes[0, 0].set_xlim(0, 100000)\n",
        "\n",
        "#\n"
      ],
      "execution_count": 11,
      "outputs": [
        {
          "output_type": "stream",
          "text": [
            "/usr/local/lib/python3.7/dist-packages/seaborn/_decorators.py:43: FutureWarning: Pass the following variables as keyword args: x, y. From version 0.12, the only valid positional argument will be `data`, and passing other arguments without an explicit keyword will result in an error or misinterpretation.\n",
            "  FutureWarning\n",
            "/usr/local/lib/python3.7/dist-packages/seaborn/_decorators.py:43: FutureWarning: Pass the following variables as keyword args: x, y. From version 0.12, the only valid positional argument will be `data`, and passing other arguments without an explicit keyword will result in an error or misinterpretation.\n",
            "  FutureWarning\n"
          ],
          "name": "stderr"
        },
        {
          "output_type": "execute_result",
          "data": {
            "text/plain": [
              "(0.0, 100000.0)"
            ]
          },
          "metadata": {
            "tags": []
          },
          "execution_count": 11
        },
        {
          "output_type": "display_data",
          "data": {
            "image/png": "[encoded data removed]",
            "text/plain": [
              "<Figure size 425.125x360 with 1 Axes>"
            ]
          },
          "metadata": {
            "tags": [],
            "needs_background": "light"
          }
        },
        {
          "output_type": "display_data",
          "data": {
            "image/png": "[encoded data removed]",
            "text/plain": [
              "<Figure size 425.125x360 with 1 Axes>"
            ]
          },
          "metadata": {
            "tags": [],
            "needs_background": "light"
          }
        }
      ]
    },
    {
      "cell_type": "code",
      "metadata": {
        "id": "MkxvDZG4HC0n"
      },
      "source": [
        "# Create your own function for a permutation test here (you will need it for the lab quiz!):\n",
        "def permut_test(sample1, sample2, n_permutations):\n",
        "  concat = np.concatenate((sample1, sample2))\n",
        "  mean_old, mean_new = np.mean(sample1),np.mean(sample2)\n",
        "  t_obs = mean_new - mean_old #observed value of the test statistic\n",
        "  counter = 0\n",
        "  for i in range(n_permutations):\n",
        "    perm = np.random.permutation(concat)\n",
        "    pold = perm[:len(sample1)]\n",
        "    pnew = perm[len(sample1):]\n",
        "    mean_pold, mean_pnew = np.mean(pold), np.mean(pnew)\n",
        "    t_perm = mean_pnew - mean_pold\n",
        "    if t_perm > t_obs:\n",
        "      counter += 1\n",
        "  pvalue = counter / n_permutations\n",
        "    #\"\"\"\n",
        "    #sample1: 1D array\n",
        "    #sample2: 1D array (note that the size of the two arrays can be different)\n",
        "    #n_permutations: number of permutations to calculate the p-value\n",
        "    #\"\"\"\n",
        "  return pvalue"
      ],
      "execution_count": 12,
      "outputs": []
    },
    {
      "cell_type": "code",
      "metadata": {
        "id": "xZCyHbJqXFTO",
        "colab": {
          "base_uri": "https://localhost:8080/"
        },
        "outputId": "308bc500-8da1-4ba9-ebf3-d60a3bf13f50"
      },
      "source": [
        "#Applying perm test function\n",
        "print(permut_test(current,new,30000))\n",
        "\n",
        "print(bootstrap_stdev_ci(new, len(new), 10000, 73))\n",
        "print(bootstrap_mean_ci(new, new.shape[0], 10000, 80))\n",
        "print(bootstrap_mean_ci(data, data.shape[0], 10000, 95))\n",
        "print(bootstrap_stdev_ci(current, len(current), 10000, 95))"
      ],
      "execution_count": 13,
      "outputs": [
        {
          "output_type": "stream",
          "text": [
            "0.0\n",
            "(0.4516929309012373, 5.516288243284119, 6.50977596724549)\n",
            "(30.490851898734178, 29.631645569620254, 31.354430379746834)\n",
            "(9.202557142857144, 6.357142857142857, 12.357142857142858)\n",
            "(0.2877872679289636, 5.811682647592232, 6.9501947579587195)\n"
          ],
          "name": "stdout"
        }
      ]
    },
    {
      "cell_type": "markdown",
      "metadata": {
        "id": "8ear7ZA7Hb8j"
      },
      "source": [
        "## Vote Datasets"
      ]
    },
    {
      "cell_type": "code",
      "metadata": {
        "id": "pbNVQIhRHuxz",
        "colab": {
          "base_uri": "https://localhost:8080/"
        },
        "outputId": "85b5aacc-60f0-4515-abe8-892488147421"
      },
      "source": [
        "# The variables below represent the percentages of democratic votes in Pennsylvania and Ohio (one value for each state).\n",
        "dem_share_PA = [60.08, 40.64, 36.07, 41.21, 31.04, 43.78, 44.08, 46.85, 44.71, 46.15, 63.10, 52.20, 43.18, 40.24, 39.92, 47.87, 37.77, 40.11, 49.85, 48.61, 38.62, 54.25, 34.84, 47.75, 43.82, 55.97, 58.23, 42.97, 42.38, 36.11, 37.53, 42.65, 50.96, 47.43, 56.24, 45.60, 46.39, 35.22, 48.56, 32.97, 57.88, 36.05, 37.72, 50.36, 32.12, 41.55, 54.66, 57.81, 54.58, 32.88, 54.37, 40.45, 47.61, 60.49, 43.11, 27.32, 44.03, 33.56, 37.26, 54.64, 43.12, 25.34, 49.79, 83.56, 40.09, 60.81, 49.81]\n",
        "dem_share_OH = [56.94, 50.46, 65.99, 45.88, 42.23, 45.26, 57.01, 53.61, 59.10, 61.48, 43.43, 44.69, 54.59, 48.36, 45.89, 48.62, 43.92, 38.23, 28.79, 63.57, 38.07, 40.18, 43.05, 41.56, 42.49, 36.06, 52.76, 46.07, 39.43, 39.26, 47.47, 27.92, 38.01, 45.45, 29.07, 28.94, 51.28, 50.10, 39.84, 36.43, 35.71, 31.47, 47.01, 40.10, 48.76, 31.56, 39.86, 45.31, 35.47, 51.38, 46.33, 48.73, 41.77, 41.32, 48.46, 53.14, 34.01, 54.74, 40.67, 38.96, 46.29, 38.25, 6.80, 31.75, 46.33, 44.90, 33.57, 38.10, 39.67, 40.47, 49.44, 37.62, 36.71, 46.73, 42.20, 53.16, 52.40, 58.36, 68.02, 38.53, 34.58, 69.64, 60.50, 53.53, 36.54, 49.58, 41.97, 38.11]\n",
        "\n",
        "print(len(dem_share_OH))\n",
        "print(len(dem_share_PA))\n",
        "\n",
        "print(bootstrap_mean_ci(dem_share_PA, len(dem_share_PA), 25000, 90))\n",
        "print(bootstrap_mean_ci(dem_share_OH, len(dem_share_OH), 25000, 90))\n",
        "\n",
        "print(permut_test(dem_share_OH,dem_share_PA,20000))"
      ],
      "execution_count": 20,
      "outputs": [
        {
          "output_type": "stream",
          "text": [
            "88\n",
            "67\n",
            "(45.47658861492537, 43.56039552238806, 47.46329104477613)\n",
            "(44.32081188181819, 42.58782954545454, 46.070460227272726)\n",
            "0.2308\n"
          ],
          "name": "stdout"
        }
      ]
    }
  ]
}
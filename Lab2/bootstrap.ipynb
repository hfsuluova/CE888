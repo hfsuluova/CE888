{
  "nbformat": 4,
  "nbformat_minor": 0,
  "metadata": {
    "colab": {
      "name": "bootstrap.ipynb",
      "provenance": [],
      "collapsed_sections": [],
      "include_colab_link": true
    },
    "kernelspec": {
      "display_name": "Python 3",
      "language": "python",
      "name": "python3"
    },
    "language_info": {
      "codemirror_mode": {
        "name": "ipython",
        "version": 3
      },
      "file_extension": ".py",
      "mimetype": "text/x-python",
      "name": "python",
      "nbconvert_exporter": "python",
      "pygments_lexer": "ipython3",
      "version": "3.7.6"
    },
    "pycharm": {
      "stem_cell": {
        "cell_type": "raw",
        "metadata": {
          "collapsed": false
        },
        "source": []
      }
    }
  },
  "cells": [
    {
      "cell_type": "markdown",
      "metadata": {
        "id": "view-in-github",
        "colab_type": "text"
      },
      "source": [
        "<a href=\"https://colab.research.google.com/github/hfsuluova/CE888/blob/main/Lab2/bootstrap.ipynb\" target=\"_parent\"><img src=\"https://colab.research.google.com/assets/colab-badge.svg\" alt=\"Open In Colab\"/></a>"
      ]
    },
    {
      "cell_type": "markdown",
      "metadata": {
        "id": "nCi_99yMYIb1"
      },
      "source": [
        "In this notebook you'll create your own bootstrap function following the bootstrap algorithm (check the lecture notes!)"
      ]
    },
    {
      "cell_type": "code",
      "metadata": {
        "id": "LY5zujI2YC37",
        "pycharm": {
          "name": "#%%# Imports\n"
        }
      },
      "source": [
        "import matplotlib\n",
        "import pandas as pd\n",
        "import seaborn as sns\n",
        "import numpy as np\n",
        "\n"
      ],
      "execution_count": 9,
      "outputs": []
    },
    {
      "cell_type": "code",
      "metadata": {
        "id": "Eqkwj4SMY38t"
      },
      "source": [
        "# Load the data\n",
        "df = pd.read_csv('https://raw.githubusercontent.com/albanda/CE888/master/lab2%20-%20bootstrap/customers.csv')\n",
        "data = df.values.T[1]"
      ],
      "execution_count": 10,
      "outputs": []
    },
    {
      "cell_type": "code",
      "metadata": {
        "id": "Gxvc_bScYC4H",
        "pycharm": {
          "name": "#%%\n"
        }
      },
      "source": [
        "# Checking the notes from the lecture, create here your own bootstrap function:\n",
        "# 1. Sample from the input array x to create an array of samples of shape (n_bootstraps, sample_size)\n",
        "# Hint: Check the function random.choice() on Numpy\n",
        "# 2. Calculate and save the mean of the array (this is \"data_mean\" that is returned by the function)\n",
        "# 3. Calculate the mean from each bootstrap (i.e., row) and store it.\n",
        "# (This should be an array of n_bootstraps values)\n",
        "# 4. Calculate the lower and upper bounds for a 95% CI (hint: check the percentile function on Numpy)\n",
        "# 5. Return data_mean, and the lower and upper bounds of your interval\n",
        "def bootstrap_mean(x, sample_size, n_bootstraps):\n",
        "  alist = []\n",
        "  data_mean1 = []\n",
        "  for i in range(n_bootstraps):\n",
        "    alist.append(np.random.choice(x, sample_size, True))\n",
        "  for sample_set in alist:\n",
        "    data_mean1.append(np.mean(sample_set))\n",
        "  data_mean1.sort()\n",
        "  data_mean = np.mean(data_mean1)\n",
        "  lower = np.percentile(data_mean1, 2.5)\n",
        "  upper = np.percentile(data_mean1, 97.5)\n",
        "  return data_mean, lower, upper\n"
      ],
      "execution_count": 11,
      "outputs": []
    },
    {
      "cell_type": "markdown",
      "metadata": {
        "id": "0ZKjOrLxTg4B"
      },
      "source": [
        ""
      ]
    },
    {
      "cell_type": "code",
      "metadata": {
        "id": "AN7sEOcMYC4P",
        "pycharm": {
          "name": "#%%\n"
        },
        "colab": {
          "base_uri": "https://localhost:8080/",
          "height": 458
        },
        "outputId": "db1f6bec-8989-4185-dffa-a41bec837477"
      },
      "source": [
        "# Call your bootstrap function and plot the results\n",
        "\n",
        "boots = []\n",
        "for i in range(100, 50000, 1000):\n",
        "    boot = bootstrap_mean(data, data.shape[0], i)\n",
        "    boots.append([i, boot[0], \"mean\"])\n",
        "    boots.append([i, boot[1], \"lower\"])\n",
        "    boots.append([i, boot[2], \"upper\"])\n",
        "\n",
        "df_boot = pd.DataFrame(boots, columns=['Bootstrap Iterations', 'Mean', \"Value\"])\n",
        "sns_plot = sns.lmplot(df_boot.columns[0], df_boot.columns[1], data=df_boot, fit_reg=False, hue=\"Value\")\n",
        "\n",
        "sns_plot.axes[0, 0].set_ylim(0,15)\n",
        "sns_plot.axes[0, 0].set_xlim(0, 100000)\n"
      ],
      "execution_count": 12,
      "outputs": [
        {
          "output_type": "stream",
          "text": [
            "/usr/local/lib/python3.6/dist-packages/seaborn/_decorators.py:43: FutureWarning: Pass the following variables as keyword args: x, y. From version 0.12, the only valid positional argument will be `data`, and passing other arguments without an explicit keyword will result in an error or misinterpretation.\n",
            "  FutureWarning\n"
          ],
          "name": "stderr"
        },
        {
          "output_type": "execute_result",
          "data": {
            "text/plain": [
              "(0.0, 100000.0)"
            ]
          },
          "metadata": {
            "tags": []
          },
          "execution_count": 12
        },
        {
          "output_type": "display_data",
          "data": {
            "image/png": "[encoded data removed]",
            "text/plain": [
              "<Figure size 425.125x360 with 1 Axes>"
            ]
          },
          "metadata": {
            "tags": [],
            "needs_background": "light"
          }
        }
      ]
    },
    {
      "cell_type": "markdown",
      "metadata": {
        "id": "MjtP4e2_YC4V"
      },
      "source": [
        "\n",
        "Now, modify the bootstrap function you created above so that you can pass your desired confidence interval as a parameter.\n",
        "\n"
      ]
    },
    {
      "cell_type": "code",
      "metadata": {
        "id": "KpAOXkQ73wmR"
      },
      "source": [
        "#CI of STD deviation\r\n",
        "def bootstrap_stdev_ci(sample, sample_size, n_bootstraps, ci):\r\n",
        "  alist = []\r\n",
        "  data_std1 = []\r\n",
        "  for i in range(n_bootstraps):\r\n",
        "    alist.append(np.random.choice(sample, sample_size, True))\r\n",
        "  for sample_set in alist:\r\n",
        "    data_std1.append(np.std(sample_set))\r\n",
        "  data_std1.sort()\r\n",
        "  data_std = np.std(data_std1)\r\n",
        "  lower = np.percentile(data_std1, (100-ci)/2)\r\n",
        "  upper = np.percentile(data_std1, 100-((100-ci)/2))\r\n",
        "  return data_std, lower, upper"
      ],
      "execution_count": 13,
      "outputs": []
    },
    {
      "cell_type": "code",
      "metadata": {
        "id": "3K9j0FuGYhHs"
      },
      "source": [
        "def bootstrap_mean_ci(sample, sample_size, n_bootstraps, ci):\n",
        "  alist = []\n",
        "  data_mean1 = []\n",
        "  for i in range(n_bootstraps):\n",
        "    alist.append(np.random.choice(sample, sample_size, True))\n",
        "  for sample_set in alist:\n",
        "    data_mean1.append(np.mean(sample_set))\n",
        "  data_mean1.sort()\n",
        "  data_mean = np.mean(data_mean1)\n",
        "  lower = np.percentile(data_mean1, (100-ci)/2)\n",
        "  upper = np.percentile(data_mean1, 100-((100-ci)/2))\n",
        "  return data_mean, lower, upper"
      ],
      "execution_count": 14,
      "outputs": []
    },
    {
      "cell_type": "code",
      "metadata": {
        "id": "uDnjq08GYl-C",
        "colab": {
          "base_uri": "https://localhost:8080/",
          "height": 458
        },
        "outputId": "e895e7f5-b6ff-4691-85b0-958b124ebd27"
      },
      "source": [
        "boots = []\n",
        "for i in range(100, 50000, 1000):\n",
        "    boot = bootstrap_mean_ci(data, data.shape[0], i, 80)\n",
        "    boots.append([i, boot[0], \"mean\"])\n",
        "    boots.append([i, boot[1], \"lower\"])\n",
        "    boots.append([i, boot[2], \"upper\"])\n",
        "\n",
        "df_boot = pd.DataFrame(boots, columns=['Boostrap Iterations', 'Mean', \"Value\"])\n",
        "sns_plot = sns.lmplot(df_boot.columns[0], df_boot.columns[1], data=df_boot, fit_reg=False, hue=\"Value\")\n",
        "\n",
        "sns_plot.axes[0, 0].set_ylim(0,15)\n",
        "sns_plot.axes[0, 0].set_xlim(0, 100000)\n",
        "\n",
        "#sns_plot.savefig(\"bootstrap_confidence_80.pdf\", bbox_inches='tight')\n"
      ],
      "execution_count": 15,
      "outputs": [
        {
          "output_type": "stream",
          "text": [
            "/usr/local/lib/python3.6/dist-packages/seaborn/_decorators.py:43: FutureWarning: Pass the following variables as keyword args: x, y. From version 0.12, the only valid positional argument will be `data`, and passing other arguments without an explicit keyword will result in an error or misinterpretation.\n",
            "  FutureWarning\n"
          ],
          "name": "stderr"
        },
        {
          "output_type": "execute_result",
          "data": {
            "text/plain": [
              "(0.0, 100000.0)"
            ]
          },
          "metadata": {
            "tags": []
          },
          "execution_count": 15
        },
        {
          "output_type": "display_data",
          "data": {
            "image/png": "[encoded data removed]",
            "text/plain": [
              "<Figure size 425.125x360 with 1 Axes>"
            ]
          },
          "metadata": {
            "tags": [],
            "needs_background": "light"
          }
        }
      ]
    },
    {
      "cell_type": "markdown",
      "metadata": {
        "id": "qjNgXW6wdd7r"
      },
      "source": [
        "# Vehicles dataset\n",
        "\n",
        "Now let's work on a different dataset, which is stored in the vehicles.csv file.\n"
      ]
    },
    {
      "cell_type": "code",
      "metadata": {
        "id": "avWv4ipFdpka"
      },
      "source": [
        "# Load and visualise the vehicles dataset\n",
        "# To load the dataset: https://neptune.ai/blog/google-colab-dealing-with-files (check section \"Load individual files directly from GitHub\")\n",
        "# Note that the current and new fleets are in different columns and have different lengths, so bear this in mind when you're plotting.\n",
        "# You can create separate scatterplots for the two fleets, as you would with the histograms, \n",
        "# or plot them both in one plot (but not one against the other).\n",
        "\n",
        "df = pd.read_csv('https://raw.githubusercontent.com/albanda/CE888/master/lab2%20-%20bootstrap/vehicles.csv')\n",
        "\n",
        "current = df.values.T[0][np.logical_not(np.isnan(df.values.T[0]))]\n",
        "new = df.values.T[1][np.logical_not(np.isnan(df.values.T[1]))]\n",
        "#Avoiding 'nan' values while assigning columns to variables\n",
        "# Note: you can add more cells as needed to organise your code and your plots\n"
      ],
      "execution_count": 16,
      "outputs": []
    },
    {
      "cell_type": "code",
      "metadata": {
        "id": "iwhMSKkYoJGB"
      },
      "source": [
        "#Histogram plotting of dataset\r\n",
        "#Current Fleet - New Fleet"
      ],
      "execution_count": 17,
      "outputs": []
    },
    {
      "cell_type": "markdown",
      "metadata": {
        "id": "B5d0tXDpIEj8"
      },
      "source": [
        "## Compare the two fleets\r\n",
        "\r\n",
        "The business analysts come up a comparison algorithm that requires the upper and lower bounds for the mean in order to say which fleet is better.\r\n",
        "1. Calculate the mean of both samples.\r\n",
        "2. Using the bootstrap function that you created:\r\n",
        "    - Construct the 95% CI of the mean of the current fleet.\r\n",
        "    - Construct the 95% CI of the mean of the new fleet.\r\n",
        "    - Are they comparable? (i.e., is one better than the other?) -- you can do this with a permutation test (check the lecture notes!)"
      ]
    },
    {
      "cell_type": "code",
      "metadata": {
        "id": "po4mp6zRHC0m",
        "colab": {
          "base_uri": "https://localhost:8080/",
          "height": 881
        },
        "outputId": "ee9cb468-52f5-4e2e-cb99-1f04a7283642"
      },
      "source": [
        "boots_c = []\n",
        "for i in range(100, 50000, 1000):\n",
        "    boot_c = bootstrap_mean_ci(current, data.shape[0], i, 95)\n",
        "    boots_c.append([i, boot_c[0], \"mean\"])\n",
        "    boots_c.append([i, boot_c[1], \"lower\"])\n",
        "    boots_c.append([i, boot_c[2], \"upper\"])\n",
        "print(boot_c, '-----', boots_c)\n",
        "df_boot_c = pd.DataFrame(boots_c, columns=['Boostrap Iterations', 'Mean', \"Value\"])\n",
        "sns_plot_c = sns.lmplot(df_boot_c.columns[0], df_boot_c.columns[1], data=df_boot_c, fit_reg=False, hue=\"Value\")\n",
        "\n",
        "sns_plot_c.axes[0, 0].set_ylim(0,25)\n",
        "sns_plot_c.axes[0, 0].set_xlim(0, 100000)\n",
        "\n",
        "boots_n = []\n",
        "for j in range(100, 50000, 1000):\n",
        "    boot_n = bootstrap_mean_ci(new, data.shape[0], j, 95)\n",
        "    boots_n.append([j, boot_n[0], \"mean\"])\n",
        "    boots_n.append([j, boot_n[1], \"lower\"])\n",
        "    boots_n.append([j, boot_n[2], \"upper\"])\n",
        "\n",
        "df_boot_n = pd.DataFrame(boots_n, columns=['Boostrap Iterations', 'Mean', \"Value\"])\n",
        "sns_plot_n = sns.lmplot(df_boot_n.columns[0], df_boot_n.columns[1], data=df_boot_n, fit_reg=False, hue=\"Value\")\n",
        "\n",
        "sns_plot_n.axes[0, 0].set_ylim(0,)\n",
        "sns_plot_n.axes[0, 0].set_xlim(0, 100000)\n",
        "\n",
        "#\n"
      ],
      "execution_count": 18,
      "outputs": [
        {
          "output_type": "stream",
          "text": [
            "(20.138110270584814, 17.0, 23.571428571428573) ----- [[100, 20.264285714285716, 'mean'], [100, 17.033928571428575, 'lower'], [100, 23.398214285714282, 'upper'], [1100, 20.215064935064937, 'mean'], [1100, 17.105357142857144, 'lower'], [1100, 23.785714285714285, 'upper'], [2100, 20.16625850340136, 'mean'], [2100, 17.071428571428573, 'lower'], [2100, 23.714285714285715, 'upper'], [3100, 20.104101382488476, 'mean'], [3100, 17.0, 'lower'], [3100, 23.571428571428573, 'upper'], [4100, 20.175365853658537, 'mean'], [4100, 17.0, 'lower'], [4100, 23.714285714285715, 'upper'], [5100, 20.144593837535016, 'mean'], [5100, 17.0, 'lower'], [5100, 23.75178571428569, 'upper'], [6100, 20.15304449648712, 'mean'], [6100, 17.0, 'lower'], [6100, 23.642857142857142, 'upper'], [7100, 20.14669014084507, 'mean'], [7100, 17.071428571428573, 'lower'], [7100, 23.571428571428573, 'upper'], [8100, 20.136560846560844, 'mean'], [8100, 17.0, 'lower'], [8100, 23.642857142857142, 'upper'], [9100, 20.137817896389322, 'mean'], [9100, 16.928571428571427, 'lower'], [9100, 23.642857142857142, 'upper'], [10100, 20.129363507779352, 'mean'], [10100, 16.928571428571427, 'lower'], [10100, 23.571428571428573, 'upper'], [11100, 20.14155727155727, 'mean'], [11100, 17.0, 'lower'], [11100, 23.714285714285715, 'upper'], [12100, 20.13533648170012, 'mean'], [12100, 16.928571428571427, 'lower'], [12100, 23.642857142857142, 'upper'], [13100, 20.15175027262813, 'mean'], [13100, 17.0, 'lower'], [13100, 23.714285714285715, 'upper'], [14100, 20.126144883485313, 'mean'], [14100, 16.928571428571427, 'lower'], [14100, 23.642857142857142, 'upper'], [15100, 20.13916272469253, 'mean'], [15100, 16.928571428571427, 'lower'], [15100, 23.714285714285715, 'upper'], [16100, 20.14700088731145, 'mean'], [16100, 17.0, 'lower'], [16100, 23.642857142857142, 'upper'], [17100, 20.137794486215537, 'mean'], [17100, 17.0, 'lower'], [17100, 23.642857142857142, 'upper'], [18100, 20.158484609313334, 'mean'], [18100, 17.0, 'lower'], [18100, 23.642857142857142, 'upper'], [19100, 20.163664921465973, 'mean'], [19100, 17.0, 'lower'], [19100, 23.680357142856987, 'upper'], [20100, 20.145728500355364, 'mean'], [20100, 17.0, 'lower'], [20100, 23.642857142857142, 'upper'], [21100, 20.16906567366283, 'mean'], [21100, 17.0, 'lower'], [21100, 23.785714285714285, 'upper'], [22100, 20.12381060116354, 'mean'], [22100, 17.0, 'lower'], [22100, 23.714285714285715, 'upper'], [23100, 20.13334879406308, 'mean'], [23100, 16.928571428571427, 'lower'], [23100, 23.642857142857142, 'upper'], [24100, 20.142474807350325, 'mean'], [24100, 17.0, 'lower'], [24100, 23.642857142857142, 'upper'], [25100, 20.158648264086512, 'mean'], [25100, 17.0, 'lower'], [25100, 23.714285714285715, 'upper'], [26100, 20.149707170224413, 'mean'], [26100, 16.928571428571427, 'lower'], [26100, 23.714285714285715, 'upper'], [27100, 20.16617290458619, 'mean'], [27100, 17.0, 'lower'], [27100, 23.714285714285715, 'upper'], [28100, 20.14470767666497, 'mean'], [28100, 16.928571428571427, 'lower'], [28100, 23.714285714285715, 'upper'], [29100, 20.157412862052038, 'mean'], [29100, 17.0, 'lower'], [29100, 23.642857142857142, 'upper'], [30100, 20.13968438538206, 'mean'], [30100, 17.0, 'lower'], [30100, 23.714285714285715, 'upper'], [31100, 20.146779972439138, 'mean'], [31100, 16.928571428571427, 'lower'], [31100, 23.642857142857142, 'upper'], [32100, 20.13672897196262, 'mean'], [32100, 17.0, 'lower'], [32100, 23.642857142857142, 'upper'], [33100, 20.140237375917135, 'mean'], [33100, 17.0, 'lower'], [33100, 23.642857142857142, 'upper'], [34100, 20.13169040636782, 'mean'], [34100, 17.0, 'lower'], [34100, 23.642857142857142, 'upper'], [35100, 20.15744607244607, 'mean'], [35100, 17.0, 'lower'], [35100, 23.642857142857142, 'upper'], [36100, 20.138743569449943, 'mean'], [36100, 16.928571428571427, 'lower'], [36100, 23.642857142857142, 'upper'], [37100, 20.146956103195993, 'mean'], [37100, 17.0, 'lower'], [37100, 23.642857142857142, 'upper'], [38100, 20.144371953505814, 'mean'], [38100, 17.0, 'lower'], [38100, 23.714285714285715, 'upper'], [39100, 20.14779868469127, 'mean'], [39100, 16.928571428571427, 'lower'], [39100, 23.642857142857142, 'upper'], [40100, 20.154087994299967, 'mean'], [40100, 17.0, 'lower'], [40100, 23.714285714285715, 'upper'], [41100, 20.13626173096976, 'mean'], [41100, 17.0, 'lower'], [41100, 23.642857142857142, 'upper'], [42100, 20.14728367831693, 'mean'], [42100, 17.0, 'lower'], [42100, 23.642857142857142, 'upper'], [43100, 20.147691415313222, 'mean'], [43100, 17.0, 'lower'], [43100, 23.714285714285715, 'upper'], [44100, 20.148168124392615, 'mean'], [44100, 17.0, 'lower'], [44100, 23.714285714285715, 'upper'], [45100, 20.132809629394995, 'mean'], [45100, 17.0, 'lower'], [45100, 23.642857142857142, 'upper'], [46100, 20.163921599008365, 'mean'], [46100, 17.0, 'lower'], [46100, 23.714285714285715, 'upper'], [47100, 20.147073096754625, 'mean'], [47100, 17.0, 'lower'], [47100, 23.714285714285715, 'upper'], [48100, 20.140871695871695, 'mean'], [48100, 17.0, 'lower'], [48100, 23.642857142857142, 'upper'], [49100, 20.138110270584814, 'mean'], [49100, 17.0, 'lower'], [49100, 23.571428571428573, 'upper']]\n"
          ],
          "name": "stdout"
        },
        {
          "output_type": "stream",
          "text": [
            "/usr/local/lib/python3.6/dist-packages/seaborn/_decorators.py:43: FutureWarning: Pass the following variables as keyword args: x, y. From version 0.12, the only valid positional argument will be `data`, and passing other arguments without an explicit keyword will result in an error or misinterpretation.\n",
            "  FutureWarning\n",
            "/usr/local/lib/python3.6/dist-packages/seaborn/_decorators.py:43: FutureWarning: Pass the following variables as keyword args: x, y. From version 0.12, the only valid positional argument will be `data`, and passing other arguments without an explicit keyword will result in an error or misinterpretation.\n",
            "  FutureWarning\n"
          ],
          "name": "stderr"
        },
        {
          "output_type": "execute_result",
          "data": {
            "text/plain": [
              "(0.0, 100000.0)"
            ]
          },
          "metadata": {
            "tags": []
          },
          "execution_count": 18
        },
        {
          "output_type": "display_data",
          "data": {
            "image/png": "[encoded data removed]",
            "text/plain": [
              "<Figure size 425.125x360 with 1 Axes>"
            ]
          },
          "metadata": {
            "tags": [],
            "needs_background": "light"
          }
        },
        {
          "output_type": "display_data",
          "data": {
            "image/png": "[encoded data removed]",
            "text/plain": [
              "<Figure size 425.125x360 with 1 Axes>"
            ]
          },
          "metadata": {
            "tags": [],
            "needs_background": "light"
          }
        }
      ]
    },
    {
      "cell_type": "code",
      "metadata": {
        "id": "MkxvDZG4HC0n"
      },
      "source": [
        "# Create your own function for a permutation test here (you will need it for the lab quiz!):\n",
        "def permut_test(sample1, sample2, n_permutations):\n",
        "  concat = np.concatenate((sample1, sample2))\n",
        "  mean_old, mean_new = np.mean(sample1),np.mean(sample2)\n",
        "  t_obs = mean_new - mean_old #observed value of the test statistic\n",
        "  counter = 0\n",
        "  for i in range(n_permutations):\n",
        "    perm = np.random.permutation(concat)\n",
        "    pold = perm[:len(sample1)]\n",
        "    pnew = perm[len(sample1):]\n",
        "    mean_pold, mean_pnew = np.mean(pold), np.mean(pnew)\n",
        "    t_perm = mean_pnew - mean_pold\n",
        "    if t_perm > t_obs:\n",
        "      counter += 1\n",
        "  pvalue = counter / n_permutations\n",
        "    #\"\"\"\n",
        "    #sample1: 1D array\n",
        "    #sample2: 1D array (note that the size of the two arrays can be different)\n",
        "    #n_permutations: number of permutations to calculate the p-value\n",
        "    #\"\"\"\n",
        "  return pvalue"
      ],
      "execution_count": 19,
      "outputs": []
    },
    {
      "cell_type": "code",
      "metadata": {
        "colab": {
          "base_uri": "https://localhost:8080/"
        },
        "id": "xZCyHbJqXFTO",
        "outputId": "c50fa4c1-b183-42c5-dcfc-51dea15b6f5f"
      },
      "source": [
        "#Applying perm test function\r\n",
        "print(permut_test(current,new,30000))\r\n",
        "\r\n",
        "print(bootstrap_stdev_ci(new, len(new), 10000, 99))\r\n",
        "print(bootstrap_mean_ci(new, new.shape[0], 10000, 85))"
      ],
      "execution_count": 20,
      "outputs": [
        {
          "output_type": "stream",
          "text": [
            "0.0\n",
            "(0.45126931544867893, 4.887877119223918, 7.219374867178268)\n",
            "(30.47967721518987, 29.50632911392405, 31.468354430379748)\n"
          ],
          "name": "stdout"
        }
      ]
    },
    {
      "cell_type": "markdown",
      "metadata": {
        "id": "8ear7ZA7Hb8j"
      },
      "source": [
        "Vote Datasets"
      ]
    },
    {
      "cell_type": "code",
      "metadata": {
        "colab": {
          "base_uri": "https://localhost:8080/"
        },
        "id": "pbNVQIhRHuxz",
        "outputId": "31af4df8-2c30-46f0-d460-566e998bc3ee"
      },
      "source": [
        "# The variables below represent the percentages of democratic votes in Pennsylvania and Ohio (one value for each state).\r\n",
        "dem_share_PA = [60.08, 40.64, 36.07, 41.21, 31.04, 43.78, 44.08, 46.85, 44.71, 46.15, 63.10, 52.20, 43.18, 40.24, 39.92, 47.87, 37.77, 40.11, 49.85, 48.61, 38.62, 54.25, 34.84, 47.75, 43.82, 55.97, 58.23, 42.97, 42.38, 36.11, 37.53, 42.65, 50.96, 47.43, 56.24, 45.60, 46.39, 35.22, 48.56, 32.97, 57.88, 36.05, 37.72, 50.36, 32.12, 41.55, 54.66, 57.81, 54.58, 32.88, 54.37, 40.45, 47.61, 60.49, 43.11, 27.32, 44.03, 33.56, 37.26, 54.64, 43.12, 25.34, 49.79, 83.56, 40.09, 60.81, 49.81]\r\n",
        "dem_share_OH = [56.94, 50.46, 65.99, 45.88, 42.23, 45.26, 57.01, 53.61, 59.10, 61.48, 43.43, 44.69, 54.59, 48.36, 45.89, 48.62, 43.92, 38.23, 28.79, 63.57, 38.07, 40.18, 43.05, 41.56, 42.49, 36.06, 52.76, 46.07, 39.43, 39.26, 47.47, 27.92, 38.01, 45.45, 29.07, 28.94, 51.28, 50.10, 39.84, 36.43, 35.71, 31.47, 47.01, 40.10, 48.76, 31.56, 39.86, 45.31, 35.47, 51.38, 46.33, 48.73, 41.77, 41.32, 48.46, 53.14, 34.01, 54.74, 40.67, 38.96, 46.29, 38.25, 6.80, 31.75, 46.33, 44.90, 33.57, 38.10, 39.67, 40.47, 49.44, 37.62, 36.71, 46.73, 42.20, 53.16, 52.40, 58.36, 68.02, 38.53, 34.58, 69.64, 60.50, 53.53, 36.54, 49.58, 41.97, 38.11]\r\n",
        "\r\n",
        "print(len(dem_share_OH))\r\n",
        "print(len(dem_share_PA))\r\n",
        "\r\n",
        "print(bootstrap_mean_ci(dem_share_PA, len(dem_share_PA), 20000, 95))\r\n",
        "print(bootstrap_mean_ci(dem_share_OH, len(dem_share_OH), 20000, 95))\r\n",
        "\r\n",
        "print(permut_test(dem_share_OH,dem_share_PA,10000))"
      ],
      "execution_count": 37,
      "outputs": [
        {
          "output_type": "stream",
          "text": [
            "88\n",
            "67\n",
            "(45.47753574626866, 43.21791044776119, 47.847179104477604)\n",
            "(44.32758526136364, 42.25996022727272, 46.37502272727273)\n",
            "0.2396\n"
          ],
          "name": "stdout"
        }
      ]
    }
  ]
}
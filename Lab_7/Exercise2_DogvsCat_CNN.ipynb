{
  "nbformat": 4,
  "nbformat_minor": 0,
  "metadata": {
    "colab": {
      "name": "Exercise2_DogvsCat_CNN.ipynb",
      "provenance": [],
      "include_colab_link": true
    },
    "kernelspec": {
      "name": "python3",
      "display_name": "Python 3"
    },
    "accelerator": "GPU"
  },
  "cells": [
    {
      "cell_type": "markdown",
      "metadata": {
        "id": "view-in-github",
        "colab_type": "text"
      },
      "source": [
        "<a href=\"https://colab.research.google.com/github/hfsuluova/CE888/blob/main/Lab_7/Exercise2_DogvsCat_CNN.ipynb\" target=\"_parent\"><img src=\"https://colab.research.google.com/assets/colab-badge.svg\" alt=\"Open In Colab\"/></a>"
      ]
    },
    {
      "cell_type": "markdown",
      "metadata": {
        "id": "qTh9DiKVslsJ"
      },
      "source": [
        "## Dogs vs. Cats \n",
        "\n",
        "In this competition, you'll write an algorithm to classify whether images contain either a dog or a cat.  This is easy for humans, dogs, and cats. Your computer will find it a bit more difficult.\n",
        "\n",
        "![alt text](https://miro.medium.com/max/3000/1*bhFifratH9DjKqMBTeQG5A.gif)\n",
        "\n",
        "Ref: https://medium.com/@thegrigorian/rolling-in-the-deep-cnn-c8d3f7108c8c"
      ]
    },
    {
      "cell_type": "markdown",
      "metadata": {
        "id": "RSBI-_mSSY1g"
      },
      "source": [
        "Get your API Key from Kaggle using following steps:\n",
        "1. Login to [Kaggle](https://www.kaggle.com/) or Register if you don't have account\n",
        "2. Open Dataset (https://www.kaggle.com/c/dogs-vs-cats/rules) and accept terms and condition. \n",
        "3. On the top right corner click on your Icon and go to accounts and press a button \"Create New API Token\". It will download a JSON file containing your username and key. \n",
        "4. Now, paste both below. \n"
      ]
    },
    {
      "cell_type": "code",
      "metadata": {
        "id": "YmXSOc0tZIGA",
        "colab": {
          "base_uri": "https://localhost:8080/"
        },
        "outputId": "2915c361-c3fb-456a-c114-48ed18ea646c"
      },
      "source": [
        "import os\n",
        "os.environ['KAGGLE_USERNAME'] = \"furkansuluova\" # username from the json file\n",
        "os.environ['KAGGLE_KEY'] = \"034c55ac6bcef1ad60be335012d2f2fe\" # key from the json file\n",
        "!kaggle competitions download -c dogs-vs-cats # api copied from kaggle (https://www.kaggle.com/c/dogs-vs-cats/data)"
      ],
      "execution_count": 2,
      "outputs": [
        {
          "output_type": "stream",
          "text": [
            "Warning: Looks like you're using an outdated API Version, please consider updating (server 1.5.12 / client 1.5.4)\n",
            "test1.zip: Skipping, found more recently modified local copy (use --force to force download)\n",
            "train.zip: Skipping, found more recently modified local copy (use --force to force download)\n",
            "sampleSubmission.csv: Skipping, found more recently modified local copy (use --force to force download)\n"
          ],
          "name": "stdout"
        }
      ]
    },
    {
      "cell_type": "code",
      "metadata": {
        "id": "PiwIL8d1n7eS",
        "colab": {
          "base_uri": "https://localhost:8080/"
        },
        "outputId": "506abfe0-aacd-49fc-9142-1f7740e2383e"
      },
      "source": [
        "# Unzip training data\n",
        "from zipfile import ZipFile\n",
        "file_name = \"/content/train.zip\"\n",
        "with ZipFile(file_name, 'r') as zip:\n",
        "  zip.extractall()\n",
        "  print('done')"
      ],
      "execution_count": 3,
      "outputs": [
        {
          "output_type": "stream",
          "text": [
            "done\n"
          ],
          "name": "stdout"
        }
      ]
    },
    {
      "cell_type": "code",
      "metadata": {
        "id": "sa2Bj5i7pPKV",
        "colab": {
          "base_uri": "https://localhost:8080/"
        },
        "outputId": "b43c2d1c-918d-4d6f-8187-ede2223c4293"
      },
      "source": [
        "# Get all the paths\n",
        "data_dir_list = os.listdir('/content/train')\n",
        "#print(data_dir_list)\n",
        "path, dirs, files = next(os.walk(\"/content/train\"))\n",
        "file_count = len(files)\n",
        "print(file_count)"
      ],
      "execution_count": 4,
      "outputs": [
        {
          "output_type": "stream",
          "text": [
            "25000\n"
          ],
          "name": "stdout"
        }
      ]
    },
    {
      "cell_type": "code",
      "metadata": {
        "id": "0ERlHkfHqpK8"
      },
      "source": [
        "# Make new base directory\n",
        "original_dataset_dir = '/content/train'\n",
        "base_dir = '/content/cats_and_dogs_small'\n",
        "os.mkdir(base_dir)"
      ],
      "execution_count": 5,
      "outputs": []
    },
    {
      "cell_type": "code",
      "metadata": {
        "id": "AANB1UJ6rQhM"
      },
      "source": [
        "train_dir = os.path.join(base_dir, 'train')\n",
        "os.mkdir(train_dir)\n",
        "\n",
        "validation_dir = os.path.join(base_dir, 'validation')\n",
        "os.mkdir(validation_dir)\n",
        "\n",
        "test_dir = os.path.join(base_dir, 'test')\n",
        "os.mkdir(test_dir)\n",
        "\n",
        "train_cats_dir = os.path.join(train_dir, 'cats')\n",
        "os.mkdir(train_cats_dir)\n",
        "\n",
        "train_dogs_dir = os.path.join(train_dir, 'dogs')\n",
        "os.mkdir(train_dogs_dir)\n",
        "\n",
        "validation_cats_dir = os.path.join(validation_dir, 'cats')\n",
        "os.mkdir(validation_cats_dir)\n",
        "\n",
        "validation_dogs_dir = os.path.join(validation_dir, 'dogs')\n",
        "os.mkdir(validation_dogs_dir)\n",
        "\n",
        "test_cats_dir = os.path.join(test_dir, 'cats')\n",
        "os.mkdir(test_cats_dir)\n",
        "\n",
        "test_dogs_dir = os.path.join(test_dir, 'dogs')\n",
        "os.mkdir(test_dogs_dir)"
      ],
      "execution_count": 6,
      "outputs": []
    },
    {
      "cell_type": "code",
      "metadata": {
        "id": "ULRgL9s9rV8T"
      },
      "source": [
        "import shutil\n",
        "fnames = ['cat.{}.jpg'.format(i) for i in range(1000)]\n",
        "for fname in fnames:\n",
        "    src = os.path.join(original_dataset_dir, fname)\n",
        "    dst = os.path.join(train_cats_dir, fname)\n",
        "    #print(src,dst)\n",
        "    shutil.copyfile(src, dst)\n",
        "    \n",
        "fnames = ['cat.{}.jpg'.format(i) for i in range(1000, 1500)]\n",
        "for fname in fnames:\n",
        "    src = os.path.join(original_dataset_dir, fname)\n",
        "    dst = os.path.join(validation_cats_dir, fname)\n",
        "    shutil.copyfile(src, dst)\n",
        "\n",
        "fnames = ['cat.{}.jpg'.format(i) for i in range(1500, 2000)]\n",
        "for fname in fnames:\n",
        "    src = os.path.join(original_dataset_dir, fname)\n",
        "    dst = os.path.join(test_cats_dir, fname)\n",
        "    shutil.copyfile(src, dst)\n",
        "    \n",
        "fnames = ['dog.{}.jpg'.format(i) for i in range(1000)]\n",
        "for fname in fnames:\n",
        "    src = os.path.join(original_dataset_dir, fname)\n",
        "    dst = os.path.join(train_dogs_dir, fname)\n",
        "    shutil.copyfile(src, dst)\n",
        "\n",
        "fnames = ['dog.{}.jpg'.format(i) for i in range(1000, 1500)]\n",
        "for fname in fnames:\n",
        "    src = os.path.join(original_dataset_dir, fname)\n",
        "    dst = os.path.join(validation_dogs_dir, fname)\n",
        "    shutil.copyfile(src, dst)\n",
        "\n",
        "fnames = ['dog.{}.jpg'.format(i) for i in range(1500, 2000)]\n",
        "for fname in fnames:\n",
        "    src = os.path.join(original_dataset_dir, fname)\n",
        "    dst = os.path.join(test_dogs_dir, fname)\n",
        "    shutil.copyfile(src, dst)"
      ],
      "execution_count": 7,
      "outputs": []
    },
    {
      "cell_type": "code",
      "metadata": {
        "id": "ul3XAbIyr7vC",
        "colab": {
          "base_uri": "https://localhost:8080/"
        },
        "outputId": "98cebba2-2e87-46df-c919-dc9576203f80"
      },
      "source": [
        "print('total training cat images:', len(os.listdir(train_cats_dir)))\n",
        "print('total training dog images:', len(os.listdir(train_dogs_dir)))\n",
        "print('total validation cat images:', len(os.listdir(validation_cats_dir)))\n",
        "\n",
        "print('total validation dog images:', len(os.listdir(validation_dogs_dir)))\n",
        "print('total test cat images:', len(os.listdir(test_cats_dir)))\n",
        "print('total test dog images:', len(os.listdir(test_dogs_dir)))"
      ],
      "execution_count": 8,
      "outputs": [
        {
          "output_type": "stream",
          "text": [
            "total training cat images: 1000\n",
            "total training dog images: 1000\n",
            "total validation cat images: 500\n",
            "total validation dog images: 500\n",
            "total test cat images: 500\n",
            "total test dog images: 500\n"
          ],
          "name": "stdout"
        }
      ]
    },
    {
      "cell_type": "code",
      "metadata": {
        "id": "o9yTA21_r-ma",
        "colab": {
          "base_uri": "https://localhost:8080/"
        },
        "outputId": "4313953b-0343-4197-fa08-30f04ccb6a77"
      },
      "source": [
        "from keras import layers\n",
        "from keras import models\n",
        "\n",
        "model = models.Sequential()\n",
        "model.add(layers.Conv2D(32, (3, 3), activation='relu', input_shape=(150, 150, 3)))\n",
        "model.add(layers.MaxPooling2D((2, 2)))\n",
        "model.add(layers.Conv2D(64, (3, 3), activation='relu'))\n",
        "model.add(layers.MaxPooling2D((2, 2)))\n",
        "model.add(layers.Conv2D(128, (3, 3), activation='relu'))\n",
        "model.add(layers.MaxPooling2D((2, 2)))\n",
        "model.add(layers.Conv2D(128, (3, 3), activation='relu'))\n",
        "model.add(layers.MaxPooling2D((2, 2)))\n",
        "model.add(layers.Flatten())\n",
        "model.add(layers.Dense(512, activation='relu'))\n",
        "model.add(layers.Dense(1, activation='sigmoid'))\n",
        "model.summary()"
      ],
      "execution_count": 9,
      "outputs": [
        {
          "output_type": "stream",
          "text": [
            "Model: \"sequential\"\n",
            "_________________________________________________________________\n",
            "Layer (type)                 Output Shape              Param #   \n",
            "=================================================================\n",
            "conv2d (Conv2D)              (None, 148, 148, 32)      896       \n",
            "_________________________________________________________________\n",
            "max_pooling2d (MaxPooling2D) (None, 74, 74, 32)        0         \n",
            "_________________________________________________________________\n",
            "conv2d_1 (Conv2D)            (None, 72, 72, 64)        18496     \n",
            "_________________________________________________________________\n",
            "max_pooling2d_1 (MaxPooling2 (None, 36, 36, 64)        0         \n",
            "_________________________________________________________________\n",
            "conv2d_2 (Conv2D)            (None, 34, 34, 128)       73856     \n",
            "_________________________________________________________________\n",
            "max_pooling2d_2 (MaxPooling2 (None, 17, 17, 128)       0         \n",
            "_________________________________________________________________\n",
            "conv2d_3 (Conv2D)            (None, 15, 15, 128)       147584    \n",
            "_________________________________________________________________\n",
            "max_pooling2d_3 (MaxPooling2 (None, 7, 7, 128)         0         \n",
            "_________________________________________________________________\n",
            "flatten (Flatten)            (None, 6272)              0         \n",
            "_________________________________________________________________\n",
            "dense (Dense)                (None, 512)               3211776   \n",
            "_________________________________________________________________\n",
            "dense_1 (Dense)              (None, 1)                 513       \n",
            "=================================================================\n",
            "Total params: 3,453,121\n",
            "Trainable params: 3,453,121\n",
            "Non-trainable params: 0\n",
            "_________________________________________________________________\n"
          ],
          "name": "stdout"
        }
      ]
    },
    {
      "cell_type": "code",
      "metadata": {
        "id": "2mG8wekxsBVS"
      },
      "source": [
        "from keras import optimizers\n",
        "model.compile(loss='binary_crossentropy', \n",
        "              optimizer=optimizers.RMSprop(lr=1e-4),\n",
        "              metrics=['acc'])"
      ],
      "execution_count": 10,
      "outputs": []
    },
    {
      "cell_type": "markdown",
      "metadata": {
        "id": "7zS4Klm8qWp6"
      },
      "source": [
        "## Using ImageDataGenerator to read images from directories\n",
        "As you know by now, data should be formatted into appropriately preprocessed floatingpoint tensors before being fed into the network. Currently, the data sits on a drive as JPEG files, so the steps for getting it into the network are roughly as follows:\n",
        "\n",
        "* Read the picture files.\n",
        "* Decode the JPEG content to RGB grids of pixels.\n",
        "* Convert these into floating-point tensors.\n",
        "* Rescale the pixel values (between 0 and 255) to the [0, 1] interval (as you know, neural networks prefer to deal with small input values).\n",
        "\n",
        "It may seem a bit daunting, but fortunately Keras has utilities to take care of these steps automatically. Keras has a module with image-processing helper tools, located at keras.preprocessing.image. In particular, it contains the class ImageDataGenerator,which lets you quickly set up Python generators that can automatically turn image files on disk into batches of preprocessed tensors."
      ]
    },
    {
      "cell_type": "code",
      "metadata": {
        "id": "XJ7XU7t9sEh6",
        "colab": {
          "base_uri": "https://localhost:8080/"
        },
        "outputId": "bb240a21-ccd9-4bf8-c024-4e2ba701ea38"
      },
      "source": [
        "from keras.preprocessing.image import ImageDataGenerator\n",
        "\n",
        "train_datagen = ImageDataGenerator(rescale=1./255)\n",
        "test_datagen = ImageDataGenerator(rescale=1./255)\n",
        "\n",
        "train_generator = train_datagen.flow_from_directory(train_dir,\n",
        "                                                    target_size=(150, 150), \n",
        "                                                    batch_size=20,\n",
        "                                                    class_mode='binary')\n",
        "\n",
        "validation_generator = test_datagen.flow_from_directory(validation_dir,\n",
        "                                                        target_size=(150, 150),\n",
        "                                                        batch_size=20,\n",
        "                                                        class_mode='binary')"
      ],
      "execution_count": 11,
      "outputs": [
        {
          "output_type": "stream",
          "text": [
            "Found 2000 images belonging to 2 classes.\n",
            "Found 1000 images belonging to 2 classes.\n"
          ],
          "name": "stdout"
        }
      ]
    },
    {
      "cell_type": "markdown",
      "metadata": {
        "id": "SEgLywySqm4u"
      },
      "source": [
        "Let’s fit the model to the data using the generator. You do so using the fit_generator method, the equivalent of fit for data generators like this one. It expects as its first argument a Python generator that will yield batches of inputs and targets indefinitely,like this one does. Because the data is being generated endlessly, the Keras model needs to know how many samples to draw from the generator before declaring anepoch over. This is the role of the `steps_per_epoch` argument: after having drawn `steps_per_epoch` batches from the generator—that is, after having run for `steps_per_epoch` gradient descent steps—the fitting process will go to the next epoch. In this case, batches are 20 samples, so it will take 100 batches until you see your target of 2,000 samples.\n",
        "\n",
        "When using fit_generator, you can pass a validation_data argument, much as with the fit method. It’s important to note that this argument is allowed to be a data generator, but it could also be a tuple of Numpy arrays. If you pass a generator as validation_data, then this generator is expected to yield batches of validation data endlessly; thus you should also specify the validation_steps argument, which tells the process how many batches to draw from the validation generator for evaluation."
      ]
    },
    {
      "cell_type": "code",
      "metadata": {
        "id": "yMyfPphJsJG6",
        "colab": {
          "base_uri": "https://localhost:8080/",
          "height": 1000
        },
        "outputId": "327d5f4e-31e9-4d8f-fc2e-757e5da644ef"
      },
      "source": [
        "history = model.fit_generator(train_generator,\n",
        "                              steps_per_epoch=100,\n",
        "                              epochs=30,\n",
        "                              validation_data=validation_generator,\n",
        "                              validation_steps=10)"
      ],
      "execution_count": null,
      "outputs": [
        {
          "output_type": "stream",
          "text": [
            "WARNING:tensorflow:From /usr/local/lib/python3.6/dist-packages/keras/backend/tensorflow_backend.py:1033: The name tf.assign_add is deprecated. Please use tf.compat.v1.assign_add instead.\n",
            "\n",
            "WARNING:tensorflow:From /usr/local/lib/python3.6/dist-packages/keras/backend/tensorflow_backend.py:1020: The name tf.assign is deprecated. Please use tf.compat.v1.assign instead.\n",
            "\n",
            "WARNING:tensorflow:From /usr/local/lib/python3.6/dist-packages/keras/backend/tensorflow_backend.py:3005: The name tf.Session is deprecated. Please use tf.compat.v1.Session instead.\n",
            "\n",
            "Epoch 1/30\n",
            "WARNING:tensorflow:From /usr/local/lib/python3.6/dist-packages/keras/backend/tensorflow_backend.py:190: The name tf.get_default_session is deprecated. Please use tf.compat.v1.get_default_session instead.\n",
            "\n",
            "WARNING:tensorflow:From /usr/local/lib/python3.6/dist-packages/keras/backend/tensorflow_backend.py:197: The name tf.ConfigProto is deprecated. Please use tf.compat.v1.ConfigProto instead.\n",
            "\n",
            "WARNING:tensorflow:From /usr/local/lib/python3.6/dist-packages/keras/backend/tensorflow_backend.py:207: The name tf.global_variables is deprecated. Please use tf.compat.v1.global_variables instead.\n",
            "\n",
            "WARNING:tensorflow:From /usr/local/lib/python3.6/dist-packages/keras/backend/tensorflow_backend.py:216: The name tf.is_variable_initialized is deprecated. Please use tf.compat.v1.is_variable_initialized instead.\n",
            "\n",
            "WARNING:tensorflow:From /usr/local/lib/python3.6/dist-packages/keras/backend/tensorflow_backend.py:223: The name tf.variables_initializer is deprecated. Please use tf.compat.v1.variables_initializer instead.\n",
            "\n",
            "100/100 [==============================] - 21s 210ms/step - loss: 0.6935 - acc: 0.5310 - val_loss: 0.6835 - val_acc: 0.5650\n",
            "Epoch 2/30\n",
            "100/100 [==============================] - 6s 63ms/step - loss: 0.6645 - acc: 0.5960 - val_loss: 0.6376 - val_acc: 0.6150\n",
            "Epoch 3/30\n",
            "100/100 [==============================] - 6s 63ms/step - loss: 0.6234 - acc: 0.6550 - val_loss: 0.6096 - val_acc: 0.6900\n",
            "Epoch 4/30\n",
            "100/100 [==============================] - 6s 63ms/step - loss: 0.5734 - acc: 0.6940 - val_loss: 0.5797 - val_acc: 0.7050\n",
            "Epoch 5/30\n",
            "100/100 [==============================] - 6s 65ms/step - loss: 0.5332 - acc: 0.7325 - val_loss: 0.5468 - val_acc: 0.6950\n",
            "Epoch 6/30\n",
            "100/100 [==============================] - 7s 65ms/step - loss: 0.5145 - acc: 0.7415 - val_loss: 0.6726 - val_acc: 0.6300\n",
            "Epoch 7/30\n",
            "100/100 [==============================] - 6s 65ms/step - loss: 0.4865 - acc: 0.7640 - val_loss: 0.5019 - val_acc: 0.7700\n",
            "Epoch 8/30\n",
            "100/100 [==============================] - 6s 64ms/step - loss: 0.4551 - acc: 0.7815 - val_loss: 0.5552 - val_acc: 0.7000\n",
            "Epoch 9/30\n",
            "100/100 [==============================] - 6s 63ms/step - loss: 0.4356 - acc: 0.8060 - val_loss: 0.6279 - val_acc: 0.6800\n",
            "Epoch 10/30\n",
            "100/100 [==============================] - 6s 64ms/step - loss: 0.4097 - acc: 0.8115 - val_loss: 0.5062 - val_acc: 0.7250\n",
            "Epoch 11/30\n",
            "100/100 [==============================] - 6s 63ms/step - loss: 0.3906 - acc: 0.8210 - val_loss: 0.6678 - val_acc: 0.6500\n",
            "Epoch 12/30\n",
            "100/100 [==============================] - 6s 63ms/step - loss: 0.3574 - acc: 0.8470 - val_loss: 0.5225 - val_acc: 0.7550\n",
            "Epoch 13/30\n",
            "100/100 [==============================] - 6s 63ms/step - loss: 0.3409 - acc: 0.8560 - val_loss: 0.6052 - val_acc: 0.6700\n",
            "Epoch 14/30\n",
            "100/100 [==============================] - 6s 64ms/step - loss: 0.3090 - acc: 0.8720 - val_loss: 0.5630 - val_acc: 0.7450\n",
            "Epoch 15/30\n",
            "100/100 [==============================] - 6s 65ms/step - loss: 0.2854 - acc: 0.8780 - val_loss: 0.5067 - val_acc: 0.7350\n",
            "Epoch 16/30\n",
            "100/100 [==============================] - 6s 65ms/step - loss: 0.2617 - acc: 0.8910 - val_loss: 0.6814 - val_acc: 0.6950\n",
            "Epoch 17/30\n",
            "100/100 [==============================] - 6s 62ms/step - loss: 0.2415 - acc: 0.9065 - val_loss: 0.6967 - val_acc: 0.7200\n",
            "Epoch 18/30\n",
            "100/100 [==============================] - 6s 63ms/step - loss: 0.2199 - acc: 0.9170 - val_loss: 0.6467 - val_acc: 0.7200\n",
            "Epoch 19/30\n",
            "100/100 [==============================] - 6s 64ms/step - loss: 0.1961 - acc: 0.9245 - val_loss: 0.6084 - val_acc: 0.7150\n",
            "Epoch 20/30\n",
            "100/100 [==============================] - 6s 62ms/step - loss: 0.1865 - acc: 0.9295 - val_loss: 0.5893 - val_acc: 0.7550\n",
            "Epoch 21/30\n",
            "100/100 [==============================] - 6s 64ms/step - loss: 0.1629 - acc: 0.9425 - val_loss: 0.6671 - val_acc: 0.7300\n",
            "Epoch 22/30\n",
            "100/100 [==============================] - 6s 64ms/step - loss: 0.1470 - acc: 0.9530 - val_loss: 0.9524 - val_acc: 0.6850\n",
            "Epoch 23/30\n",
            "100/100 [==============================] - 6s 64ms/step - loss: 0.1299 - acc: 0.9570 - val_loss: 0.6906 - val_acc: 0.6850\n",
            "Epoch 24/30\n",
            "100/100 [==============================] - 6s 63ms/step - loss: 0.1054 - acc: 0.9665 - val_loss: 0.7393 - val_acc: 0.7600\n",
            "Epoch 25/30\n",
            "100/100 [==============================] - 6s 61ms/step - loss: 0.0917 - acc: 0.9710 - val_loss: 0.7491 - val_acc: 0.6950\n",
            "Epoch 26/30\n",
            "100/100 [==============================] - 6s 64ms/step - loss: 0.0823 - acc: 0.9755 - val_loss: 0.9264 - val_acc: 0.7100\n",
            "Epoch 27/30\n",
            "100/100 [==============================] - 6s 62ms/step - loss: 0.0755 - acc: 0.9760 - val_loss: 0.8815 - val_acc: 0.7300\n",
            "Epoch 28/30\n",
            "100/100 [==============================] - 6s 62ms/step - loss: 0.0561 - acc: 0.9870 - val_loss: 1.0243 - val_acc: 0.6850\n",
            "Epoch 29/30\n",
            "100/100 [==============================] - 6s 63ms/step - loss: 0.0501 - acc: 0.9865 - val_loss: 1.1240 - val_acc: 0.7150\n",
            "Epoch 30/30\n",
            "100/100 [==============================] - 6s 62ms/step - loss: 0.0468 - acc: 0.9875 - val_loss: 1.0499 - val_acc: 0.7050\n"
          ],
          "name": "stdout"
        }
      ]
    },
    {
      "cell_type": "code",
      "metadata": {
        "id": "MZaZ2HWZsNUi",
        "colab": {
          "base_uri": "https://localhost:8080/",
          "height": 545
        },
        "outputId": "53e28de5-14bb-4d86-93a8-0216eb5ed99a"
      },
      "source": [
        "model.save('cats_and_dogs_small_1.h5')\n",
        "\n",
        "import matplotlib.pyplot as plt\n",
        "\n",
        "acc = history.history['acc']\n",
        "val_acc = history.history['val_acc']\n",
        "loss = history.history['loss']\n",
        "val_loss = history.history['val_loss']\n",
        "\n",
        "epochs = range(1, len(acc) + 1)\n",
        "\n",
        "plt.plot(epochs, acc, 'bo', label='Training acc')\n",
        "plt.plot(epochs, val_acc, 'b', label='Validation acc')\n",
        "plt.title('Training and validation accuracy')\n",
        "plt.legend()\n",
        "\n",
        "plt.figure()\n",
        "\n",
        "plt.plot(epochs, loss, 'bo', label='Training loss')\n",
        "plt.plot(epochs, val_loss, 'b', label='Validation loss')\n",
        "plt.title('Training and validation loss')\n",
        "plt.legend()\n",
        "\n",
        "plt.show()"
      ],
      "execution_count": null,
      "outputs": [
        {
          "output_type": "display_data",
          "data": {
            "image/png": "[encoded data removed]",
            "text/plain": [
              "<Figure size 432x288 with 1 Axes>"
            ]
          },
          "metadata": {
            "tags": []
          }
        },
        {
          "output_type": "display_data",
          "data": {
            "image/png": "[encoded data removed]",
            "text/plain": [
              "<Figure size 432x288 with 1 Axes>"
            ]
          },
          "metadata": {
            "tags": []
          }
        }
      ]
    },
    {
      "cell_type": "markdown",
      "metadata": {
        "id": "XKZmXmBcq_8-"
      },
      "source": [
        "## Convolutional Networks with Dropout\n",
        "\n",
        "![alt text](https://camo.githubusercontent.com/ee6fa1073247cd2c3d241300caf110d7a7541bc5/68747470733a2f2f63646e2d696d616765732d312e6d656469756d2e636f6d2f6d61782f3830302f312a4972644a355067684439596f4f7956415137334d4a772e676966)\n",
        "\n",
        "Ref: https://github.com/mneha4/Training-Neural-Nets---Guidelines"
      ]
    },
    {
      "cell_type": "code",
      "metadata": {
        "id": "wu3cqeYQrDeN",
        "colab": {
          "base_uri": "https://localhost:8080/",
          "height": 128
        },
        "outputId": "6d0496d8-2548-4bab-e5b4-95d684ab5c20"
      },
      "source": [
        "model = models.Sequential()\n",
        "model.add(layers.Conv2D(32, (3, 3), activation='relu',\n",
        "input_shape=(150, 150, 3)))\n",
        "model.add(layers.MaxPooling2D((2, 2)))\n",
        "model.add(layers.Conv2D(64, (3, 3), activation='relu'))\n",
        "model.add(layers.MaxPooling2D((2, 2)))\n",
        "model.add(layers.Conv2D(128, (3, 3), activation='relu'))\n",
        "model.add(layers.MaxPooling2D((2, 2)))\n",
        "model.add(layers.Conv2D(128, (3, 3), activation='relu'))\n",
        "model.add(layers.MaxPooling2D((2, 2)))\n",
        "model.add(layers.Flatten())\n",
        "model.add(layers.Dropout(0.5))\n",
        "model.add(layers.Dense(512, activation='relu'))\n",
        "model.add(layers.Dense(1, activation='sigmoid'))\n",
        "\n",
        "model.compile(loss='binary_crossentropy',\n",
        "              optimizer=optimizers.RMSprop(lr=1e-4),\n",
        "              metrics=['acc'])"
      ],
      "execution_count": null,
      "outputs": [
        {
          "output_type": "stream",
          "text": [
            "WARNING:tensorflow:From /usr/local/lib/python3.6/dist-packages/keras/backend/tensorflow_backend.py:148: The name tf.placeholder_with_default is deprecated. Please use tf.compat.v1.placeholder_with_default instead.\n",
            "\n",
            "WARNING:tensorflow:From /usr/local/lib/python3.6/dist-packages/keras/backend/tensorflow_backend.py:3733: calling dropout (from tensorflow.python.ops.nn_ops) with keep_prob is deprecated and will be removed in a future version.\n",
            "Instructions for updating:\n",
            "Please use `rate` instead of `keep_prob`. Rate should be set to `rate = 1 - keep_prob`.\n"
          ],
          "name": "stdout"
        }
      ]
    },
    {
      "cell_type": "code",
      "metadata": {
        "id": "QSeLpvY0rH7F",
        "colab": {
          "base_uri": "https://localhost:8080/",
          "height": 781
        },
        "outputId": "a3b3a41b-bd03-4e45-c55a-61f8bcaeeb81"
      },
      "source": [
        "\n",
        "train_datagen = ImageDataGenerator(rescale=1./255,\n",
        "                                   rotation_range=40,\n",
        "                                   width_shift_range=0.2,\n",
        "                                   height_shift_range=0.2,\n",
        "                                   shear_range=0.2,\n",
        "                                   zoom_range=0.2,\n",
        "                                   horizontal_flip=True,)\n",
        "\n",
        "test_datagen = ImageDataGenerator(rescale=1./255)\n",
        "\n",
        "train_generator = train_datagen.flow_from_directory(train_dir,\n",
        "                                                    target_size=(150, 150),\n",
        "                                                    batch_size=32,\n",
        "                                                    class_mode='binary')\n",
        "\n",
        "validation_generator = test_datagen.flow_from_directory(validation_dir,\n",
        "                                                        target_size=(150, 150),\n",
        "                                                        batch_size=32,\n",
        "                                                        class_mode='binary')\n",
        "\n",
        "history = model.fit_generator(train_generator,\n",
        "                              steps_per_epoch=100,\n",
        "                              epochs=20,\n",
        "                              validation_data=validation_generator,\n",
        "                              validation_steps=50)"
      ],
      "execution_count": null,
      "outputs": [
        {
          "output_type": "stream",
          "text": [
            "Found 2000 images belonging to 2 classes.\n",
            "Found 1000 images belonging to 2 classes.\n",
            "Epoch 1/20\n",
            "100/100 [==============================] - 28s 283ms/step - loss: 0.6914 - acc: 0.5253 - val_loss: 0.6761 - val_acc: 0.5863\n",
            "Epoch 2/20\n",
            "100/100 [==============================] - 26s 255ms/step - loss: 0.6768 - acc: 0.5747 - val_loss: 0.6847 - val_acc: 0.5329\n",
            "Epoch 3/20\n",
            "100/100 [==============================] - 25s 255ms/step - loss: 0.6584 - acc: 0.5994 - val_loss: 0.6360 - val_acc: 0.6218\n",
            "Epoch 4/20\n",
            "100/100 [==============================] - 26s 257ms/step - loss: 0.6418 - acc: 0.6203 - val_loss: 0.6241 - val_acc: 0.6360\n",
            "Epoch 5/20\n",
            "100/100 [==============================] - 24s 244ms/step - loss: 0.6258 - acc: 0.6591 - val_loss: 0.6043 - val_acc: 0.6574\n",
            "Epoch 6/20\n",
            "100/100 [==============================] - 27s 273ms/step - loss: 0.6127 - acc: 0.6716 - val_loss: 0.6135 - val_acc: 0.6347\n",
            "Epoch 7/20\n",
            "100/100 [==============================] - 25s 254ms/step - loss: 0.5978 - acc: 0.6697 - val_loss: 0.5825 - val_acc: 0.7030\n",
            "Epoch 8/20\n",
            "100/100 [==============================] - 26s 256ms/step - loss: 0.5959 - acc: 0.6716 - val_loss: 0.5781 - val_acc: 0.6823\n",
            "Epoch 9/20\n",
            "100/100 [==============================] - 26s 257ms/step - loss: 0.5825 - acc: 0.6825 - val_loss: 0.5569 - val_acc: 0.7075\n",
            "Epoch 10/20\n",
            "100/100 [==============================] - 25s 248ms/step - loss: 0.5676 - acc: 0.7019 - val_loss: 0.6232 - val_acc: 0.6688\n",
            "Epoch 11/20\n",
            "100/100 [==============================] - 26s 265ms/step - loss: 0.5605 - acc: 0.7131 - val_loss: 0.5794 - val_acc: 0.6927\n",
            "Epoch 12/20\n",
            "100/100 [==============================] - 26s 256ms/step - loss: 0.5599 - acc: 0.7119 - val_loss: 0.5584 - val_acc: 0.7081\n",
            "Epoch 13/20\n",
            "100/100 [==============================] - 26s 256ms/step - loss: 0.5504 - acc: 0.7144 - val_loss: 0.5239 - val_acc: 0.7255\n",
            "Epoch 14/20\n",
            "100/100 [==============================] - 26s 256ms/step - loss: 0.5488 - acc: 0.7237 - val_loss: 0.5194 - val_acc: 0.7329\n",
            "Epoch 15/20\n",
            "100/100 [==============================] - 25s 254ms/step - loss: 0.5414 - acc: 0.7213 - val_loss: 0.5356 - val_acc: 0.7281\n",
            "Epoch 16/20\n",
            "100/100 [==============================] - 26s 256ms/step - loss: 0.5476 - acc: 0.7191 - val_loss: 0.5284 - val_acc: 0.7152\n",
            "Epoch 17/20\n",
            "100/100 [==============================] - 24s 241ms/step - loss: 0.5275 - acc: 0.7359 - val_loss: 0.5230 - val_acc: 0.7449\n",
            "Epoch 18/20\n",
            "100/100 [==============================] - 28s 280ms/step - loss: 0.5347 - acc: 0.7287 - val_loss: 0.5681 - val_acc: 0.6888\n",
            "Epoch 19/20\n",
            "100/100 [==============================] - 25s 254ms/step - loss: 0.5164 - acc: 0.7406 - val_loss: 0.5079 - val_acc: 0.7379\n",
            "Epoch 20/20\n",
            "100/100 [==============================] - 26s 256ms/step - loss: 0.5319 - acc: 0.7322 - val_loss: 0.4991 - val_acc: 0.7506\n"
          ],
          "name": "stdout"
        }
      ]
    },
    {
      "cell_type": "markdown",
      "metadata": {
        "id": "BRdU5yrkUF_b"
      },
      "source": [
        "# Task 2:\n",
        "\n",
        "We have used Dropout to enhance the performance of the CNN model. Can you please use whatever you like to further enhance the performance from `val_acc: 0.7506`? "
      ]
    },
    {
      "cell_type": "code",
      "metadata": {
        "id": "Nxj9-eCwqZph"
      },
      "source": [
        "model = models.Sequential()\n",
        "model.add(layers.Conv2D(32, (3, 3), activation='relu',\n",
        "input_shape=(150, 150, 3)))\n",
        "model.add(layers.MaxPooling2D((2, 2)))\n",
        "model.add(layers.Conv2D(64, (3, 3), activation='relu'))\n",
        "model.add(layers.MaxPooling2D((2, 2)))\n",
        "model.add(layers.Conv2D(128, (3, 3), activation='relu'))\n",
        "model.add(layers.MaxPooling2D((2, 2)))\n",
        "model.add(layers.Conv2D(128, (3, 3), activation='relu'))\n",
        "model.add(layers.MaxPooling2D((2, 2)))\n",
        "model.add(layers.Flatten())\n",
        "model.add(layers.Dropout(0.5))\n",
        "model.add(layers.Dense(512, activation='relu'))\n",
        "model.add(layers.Dense(1, activation='sigmoid'))\n",
        "\n",
        "model.compile(loss='binary_crossentropy',\n",
        "              optimizer=optimizers.RMSprop(lr=1e-4),\n",
        "              metrics=['acc'])"
      ],
      "execution_count": 16,
      "outputs": []
    },
    {
      "cell_type": "code",
      "metadata": {
        "colab": {
          "base_uri": "https://localhost:8080/"
        },
        "id": "3kZ_E3kapjmU",
        "outputId": "87010b9e-34c7-4df8-c5bd-999492805387"
      },
      "source": [
        "train_datagen = ImageDataGenerator(rescale=1./255, \n",
        "                                   horizontal_flip=True, \n",
        "                                   vertical_flip=True, \n",
        "                                   width_shift_range=0.1, \n",
        "                                   height_shift_range=0.1,\n",
        "                                   zoom_range=0.3)\n",
        "\n",
        "test_datagen = ImageDataGenerator(rescale=1./255)\n",
        "\n",
        "train_generator = train_datagen.flow_from_directory(train_dir,\n",
        "                                                    target_size=(150, 150), \n",
        "                                                    batch_size=20,\n",
        "                                                    class_mode='binary')\n",
        "\n",
        "validation_generator = test_datagen.flow_from_directory(validation_dir,\n",
        "                                                        target_size=(150, 150),\n",
        "                                                        batch_size=20,\n",
        "                                                        class_mode='binary')\n",
        "\n",
        "history = model.fit_generator(train_generator,\n",
        "                              epochs=50,\n",
        "                              validation_data=validation_generator)"
      ],
      "execution_count": 19,
      "outputs": [
        {
          "output_type": "stream",
          "text": [
            "Found 2000 images belonging to 2 classes.\n",
            "Found 1000 images belonging to 2 classes.\n"
          ],
          "name": "stdout"
        },
        {
          "output_type": "stream",
          "text": [
            "/usr/local/lib/python3.7/dist-packages/tensorflow/python/keras/engine/training.py:1844: UserWarning: `Model.fit_generator` is deprecated and will be removed in a future version. Please use `Model.fit`, which supports generators.\n",
            "  warnings.warn('`Model.fit_generator` is deprecated and '\n"
          ],
          "name": "stderr"
        },
        {
          "output_type": "stream",
          "text": [
            "Epoch 1/50\n",
            "100/100 [==============================] - 17s 167ms/step - loss: 0.4877 - acc: 0.7575 - val_loss: 0.6177 - val_acc: 0.7200\n",
            "Epoch 2/50\n",
            "100/100 [==============================] - 17s 166ms/step - loss: 0.4957 - acc: 0.7515 - val_loss: 0.6460 - val_acc: 0.6920\n",
            "Epoch 3/50\n",
            "100/100 [==============================] - 17s 167ms/step - loss: 0.4900 - acc: 0.7660 - val_loss: 0.5384 - val_acc: 0.7340\n",
            "Epoch 4/50\n",
            "100/100 [==============================] - 17s 170ms/step - loss: 0.4903 - acc: 0.7745 - val_loss: 0.5365 - val_acc: 0.7450\n",
            "Epoch 5/50\n",
            "100/100 [==============================] - 17s 170ms/step - loss: 0.4933 - acc: 0.7575 - val_loss: 0.4986 - val_acc: 0.7620\n",
            "Epoch 6/50\n",
            "100/100 [==============================] - 17s 168ms/step - loss: 0.4802 - acc: 0.7645 - val_loss: 0.5188 - val_acc: 0.7570\n",
            "Epoch 7/50\n",
            "100/100 [==============================] - 17s 168ms/step - loss: 0.4855 - acc: 0.7765 - val_loss: 0.5304 - val_acc: 0.7330\n",
            "Epoch 8/50\n",
            "100/100 [==============================] - 17s 167ms/step - loss: 0.4794 - acc: 0.7670 - val_loss: 0.6653 - val_acc: 0.6790\n",
            "Epoch 9/50\n",
            "100/100 [==============================] - 17s 166ms/step - loss: 0.4836 - acc: 0.7590 - val_loss: 0.4983 - val_acc: 0.7560\n",
            "Epoch 10/50\n",
            "100/100 [==============================] - 17s 167ms/step - loss: 0.4759 - acc: 0.7650 - val_loss: 0.4929 - val_acc: 0.7630\n",
            "Epoch 11/50\n",
            "100/100 [==============================] - 17s 168ms/step - loss: 0.4737 - acc: 0.7680 - val_loss: 0.5067 - val_acc: 0.7420\n",
            "Epoch 12/50\n",
            "100/100 [==============================] - 17s 168ms/step - loss: 0.4762 - acc: 0.7630 - val_loss: 0.5031 - val_acc: 0.7510\n",
            "Epoch 13/50\n",
            "100/100 [==============================] - 17s 168ms/step - loss: 0.4683 - acc: 0.7755 - val_loss: 0.5028 - val_acc: 0.7490\n",
            "Epoch 14/50\n",
            "100/100 [==============================] - 17s 168ms/step - loss: 0.4641 - acc: 0.7770 - val_loss: 0.4958 - val_acc: 0.7670\n",
            "Epoch 15/50\n",
            "100/100 [==============================] - 17s 169ms/step - loss: 0.4633 - acc: 0.7785 - val_loss: 0.6361 - val_acc: 0.7340\n",
            "Epoch 16/50\n",
            "100/100 [==============================] - 17s 170ms/step - loss: 0.4663 - acc: 0.7750 - val_loss: 0.4680 - val_acc: 0.7750\n",
            "Epoch 17/50\n",
            "100/100 [==============================] - 17s 170ms/step - loss: 0.4623 - acc: 0.7790 - val_loss: 0.4974 - val_acc: 0.7610\n",
            "Epoch 18/50\n",
            "100/100 [==============================] - 17s 171ms/step - loss: 0.4707 - acc: 0.7860 - val_loss: 0.4904 - val_acc: 0.7520\n",
            "Epoch 19/50\n",
            "100/100 [==============================] - 17s 170ms/step - loss: 0.4487 - acc: 0.7925 - val_loss: 0.4883 - val_acc: 0.7570\n",
            "Epoch 20/50\n",
            "100/100 [==============================] - 17s 171ms/step - loss: 0.4573 - acc: 0.7755 - val_loss: 0.4986 - val_acc: 0.7530\n",
            "Epoch 21/50\n",
            "100/100 [==============================] - 17s 170ms/step - loss: 0.4591 - acc: 0.7775 - val_loss: 0.5006 - val_acc: 0.7610\n",
            "Epoch 22/50\n",
            "100/100 [==============================] - 17s 170ms/step - loss: 0.4531 - acc: 0.7810 - val_loss: 0.5338 - val_acc: 0.7620\n",
            "Epoch 23/50\n",
            "100/100 [==============================] - 17s 169ms/step - loss: 0.4449 - acc: 0.7820 - val_loss: 0.5173 - val_acc: 0.7440\n",
            "Epoch 24/50\n",
            "100/100 [==============================] - 17s 170ms/step - loss: 0.4497 - acc: 0.7790 - val_loss: 0.4860 - val_acc: 0.7820\n",
            "Epoch 25/50\n",
            "100/100 [==============================] - 17s 170ms/step - loss: 0.4531 - acc: 0.7845 - val_loss: 0.5587 - val_acc: 0.7220\n",
            "Epoch 26/50\n",
            "100/100 [==============================] - 17s 170ms/step - loss: 0.4496 - acc: 0.7870 - val_loss: 0.4929 - val_acc: 0.7840\n",
            "Epoch 27/50\n",
            "100/100 [==============================] - 17s 169ms/step - loss: 0.4498 - acc: 0.7865 - val_loss: 0.4756 - val_acc: 0.7750\n",
            "Epoch 28/50\n",
            "100/100 [==============================] - 17s 170ms/step - loss: 0.4474 - acc: 0.7900 - val_loss: 0.4838 - val_acc: 0.7680\n",
            "Epoch 29/50\n",
            "100/100 [==============================] - 17s 171ms/step - loss: 0.4396 - acc: 0.7850 - val_loss: 0.4999 - val_acc: 0.7650\n",
            "Epoch 30/50\n",
            "100/100 [==============================] - 17s 168ms/step - loss: 0.4445 - acc: 0.8005 - val_loss: 0.5035 - val_acc: 0.7610\n",
            "Epoch 31/50\n",
            "100/100 [==============================] - 17s 170ms/step - loss: 0.4381 - acc: 0.7970 - val_loss: 0.4815 - val_acc: 0.7800\n",
            "Epoch 32/50\n",
            "100/100 [==============================] - 17s 169ms/step - loss: 0.4258 - acc: 0.8000 - val_loss: 0.5020 - val_acc: 0.7660\n",
            "Epoch 33/50\n",
            "100/100 [==============================] - 17s 170ms/step - loss: 0.4368 - acc: 0.7925 - val_loss: 0.4896 - val_acc: 0.7730\n",
            "Epoch 34/50\n",
            "100/100 [==============================] - 17s 170ms/step - loss: 0.4415 - acc: 0.7935 - val_loss: 0.5643 - val_acc: 0.7380\n",
            "Epoch 35/50\n",
            "100/100 [==============================] - 17s 168ms/step - loss: 0.4340 - acc: 0.8070 - val_loss: 0.4906 - val_acc: 0.7790\n",
            "Epoch 36/50\n",
            "100/100 [==============================] - 17s 170ms/step - loss: 0.4318 - acc: 0.7990 - val_loss: 0.5118 - val_acc: 0.7680\n",
            "Epoch 37/50\n",
            "100/100 [==============================] - 17s 168ms/step - loss: 0.4236 - acc: 0.8050 - val_loss: 0.4876 - val_acc: 0.7660\n",
            "Epoch 38/50\n",
            "100/100 [==============================] - 17s 169ms/step - loss: 0.4390 - acc: 0.8020 - val_loss: 0.5066 - val_acc: 0.7560\n",
            "Epoch 39/50\n",
            "100/100 [==============================] - 17s 171ms/step - loss: 0.4117 - acc: 0.8170 - val_loss: 0.4984 - val_acc: 0.7800\n",
            "Epoch 40/50\n",
            "100/100 [==============================] - 17s 170ms/step - loss: 0.4299 - acc: 0.7945 - val_loss: 0.5069 - val_acc: 0.7730\n",
            "Epoch 41/50\n",
            "100/100 [==============================] - 17s 170ms/step - loss: 0.4155 - acc: 0.8140 - val_loss: 0.5461 - val_acc: 0.7470\n",
            "Epoch 42/50\n",
            "100/100 [==============================] - 17s 169ms/step - loss: 0.4206 - acc: 0.7975 - val_loss: 0.4684 - val_acc: 0.7950\n",
            "Epoch 43/50\n",
            "100/100 [==============================] - 17s 170ms/step - loss: 0.4178 - acc: 0.8125 - val_loss: 0.4719 - val_acc: 0.7780\n",
            "Epoch 44/50\n",
            "100/100 [==============================] - 17s 169ms/step - loss: 0.4129 - acc: 0.8070 - val_loss: 0.5266 - val_acc: 0.7610\n",
            "Epoch 45/50\n",
            "100/100 [==============================] - 17s 168ms/step - loss: 0.4266 - acc: 0.7985 - val_loss: 0.4541 - val_acc: 0.7920\n",
            "Epoch 46/50\n",
            "100/100 [==============================] - 17s 168ms/step - loss: 0.4012 - acc: 0.8065 - val_loss: 0.4710 - val_acc: 0.7840\n",
            "Epoch 47/50\n",
            "100/100 [==============================] - 17s 171ms/step - loss: 0.4058 - acc: 0.8160 - val_loss: 0.4758 - val_acc: 0.7820\n",
            "Epoch 48/50\n",
            "100/100 [==============================] - 17s 171ms/step - loss: 0.4075 - acc: 0.8155 - val_loss: 0.4853 - val_acc: 0.7750\n",
            "Epoch 49/50\n",
            "100/100 [==============================] - 17s 171ms/step - loss: 0.4053 - acc: 0.8085 - val_loss: 0.5133 - val_acc: 0.7680\n",
            "Epoch 50/50\n",
            "100/100 [==============================] - 17s 170ms/step - loss: 0.4126 - acc: 0.8025 - val_loss: 0.5110 - val_acc: 0.7700\n"
          ],
          "name": "stdout"
        }
      ]
    },
    {
      "cell_type": "code",
      "metadata": {
        "colab": {
          "base_uri": "https://localhost:8080/",
          "height": 545
        },
        "id": "qTsyU0NFxDjk",
        "outputId": "050051d1-76a0-4367-c382-c4aef04bbf36"
      },
      "source": [
        "model.save('cats_and_dogs_small_hfs.h5')\n",
        "\n",
        "import matplotlib.pyplot as plt\n",
        "\n",
        "acc = history.history['acc']\n",
        "val_acc = history.history['val_acc']\n",
        "loss = history.history['loss']\n",
        "val_loss = history.history['val_loss']\n",
        "\n",
        "epochs = range(1, len(acc) + 1)\n",
        "\n",
        "plt.plot(epochs, acc, 'bo', label='Training acc')\n",
        "plt.plot(epochs, val_acc, 'b', label='Validation acc')\n",
        "plt.title('Training and validation accuracy')\n",
        "plt.legend()\n",
        "\n",
        "plt.figure()\n",
        "\n",
        "plt.plot(epochs, loss, 'bo', label='Training loss')\n",
        "plt.plot(epochs, val_loss, 'b', label='Validation loss')\n",
        "plt.title('Training and validation loss')\n",
        "plt.legend()\n",
        "\n",
        "plt.show()"
      ],
      "execution_count": 21,
      "outputs": [
        {
          "output_type": "display_data",
          "data": {
            "image/png": "[encoded data removed]",
            "text/plain": [
              "<Figure size 432x288 with 1 Axes>"
            ]
          },
          "metadata": {
            "tags": [],
            "needs_background": "light"
          }
        },
        {
          "output_type": "display_data",
          "data": {
            "image/png": "[encoded data removed]",
            "text/plain": [
              "<Figure size 432x288 with 1 Axes>"
            ]
          },
          "metadata": {
            "tags": [],
            "needs_background": "light"
          }
        }
      ]
    },
    {
      "cell_type": "code",
      "metadata": {
        "id": "_o3PsJWkzCsx",
        "outputId": "a707fddf-d00e-457d-a150-b72ab8b1f888",
        "colab": {
          "base_uri": "https://localhost:8080/"
        }
      },
      "source": [
        "test_gen = test_datagen.flow_from_directory(test_dir,\n",
        "                                            target_size=(150, 150),\n",
        "                                            batch_size=32,\n",
        "                                            class_mode='binary' )"
      ],
      "execution_count": 22,
      "outputs": [
        {
          "output_type": "stream",
          "text": [
            "Found 1000 images belonging to 2 classes.\n"
          ],
          "name": "stdout"
        }
      ]
    },
    {
      "cell_type": "code",
      "metadata": {
        "id": "GVZOiydGzXtd"
      },
      "source": [
        "test_gen.class_indices"
      ],
      "execution_count": 24,
      "outputs": []
    },
    {
      "cell_type": "code",
      "metadata": {
        "id": "Sz53RkyOynUF",
        "outputId": "23fa9259-6574-4f76-a62b-6e1bca300ec5",
        "colab": {
          "base_uri": "https://localhost:8080/"
        }
      },
      "source": [
        "test_loss, test_acc = model.evaluate(test_gen)\n",
        "test_acc"
      ],
      "execution_count": 27,
      "outputs": [
        {
          "output_type": "stream",
          "text": [
            "32/32 [==============================] - 3s 86ms/step - loss: 0.5738 - acc: 0.7690\n"
          ],
          "name": "stdout"
        },
        {
          "output_type": "execute_result",
          "data": {
            "text/plain": [
              "0.7689999938011169"
            ]
          },
          "metadata": {
            "tags": []
          },
          "execution_count": 27
        }
      ]
    }
  ]
}